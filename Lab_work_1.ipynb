{
 "cells": [
  {
   "cell_type": "markdown",
   "id": "16ace136",
   "metadata": {},
   "source": [
    "<img src='https://github.com/pruhlo/data-science-assignment/blob/master/assets/lab_work1.PNG?raw=true'>"
   ]
  },
  {
   "cell_type": "markdown",
   "id": "ce10ba05",
   "metadata": {},
   "source": [
    "Скачайте notebook:\n",
    "http://nbviewer.org/github/jupyter/notebook/blob/main/docs/source/examples/Notebook/Working%20With%20Markdown%20Cells.ipynb"
   ]
  },
  {
   "cell_type": "markdown",
   "id": "39904a06",
   "metadata": {},
   "source": [
    "<h2 style='text-align:center;'> markdown 'туторіал':</h2>\n",
    "\n",
    "[**Italics and Bold**](https://www.markdowntutorial.com/lesson/1/)  \n",
    "[**Headers**](https://www.markdowntutorial.com/lesson/2/)  \n",
    "[**Links**](https://www.markdowntutorial.com/lesson/3/)  \n",
    "[**Images**](https://www.markdowntutorial.com/lesson/4/)  \n",
    "[**Blockquotes**](https://www.markdowntutorial.com/lesson/5/)  \n",
    "[**Lists**](https://www.markdowntutorial.com/lesson/6/)  \n",
    "[**Paragraphs**](https://www.markdowntutorial.com/lesson/7/)  \n",
    "[**Lists**](https://www.markdowntutorial.com/lesson/8/)  \n",
    "\n",
    "References If you’d like to know more about these Markdown implementations:\n",
    ">\n",
    ">https://daringfireball.net/projects/markdown/\n",
    ">\n",
    ">https://spec.commonmark.org/dingus/\n",
    ">\n",
    ">https://johnmacfarlane.net/babelmark2/faq.html\n",
    ">\n",
    ">https://www.markdownguide.org\n",
    ">\n",
    ">https://dave.autonoma.ca/blog/2019/05/22/typesetting-markdown-part-1/\n",
    ">\n",
    ">http://idratherbewriting.com/2013/06/04/exploring-markdown-in-collaborative-authoring-to-publishing-workflows/\n",
    ">\n",
    ">https://en.wikipedia.org/wiki/Markdown#Example\n",
    ">\n",
    ">https://docs.gitlab.com/ee/user/markdown.html\n",
    ">\n",
    ">https://docs.github.com/en/github/writing-on-github/basic-writing-and-formatting-syntax"
   ]
  },
  {
   "cell_type": "markdown",
   "id": "a690678c",
   "metadata": {},
   "source": [
    "<img src='https://github.com/pruhlo/data-science-assignment/blob/master/assets/markdowntutorial_screen.png?raw=true'>"
   ]
  }
 ],
 "metadata": {
  "kernelspec": {
   "display_name": "Python 3 (ipykernel)",
   "language": "python",
   "name": "python3"
  },
  "language_info": {
   "codemirror_mode": {
    "name": "ipython",
    "version": 3
   },
   "file_extension": ".py",
   "mimetype": "text/x-python",
   "name": "python",
   "nbconvert_exporter": "python",
   "pygments_lexer": "ipython3",
   "version": "3.10.5"
  }
 },
 "nbformat": 4,
 "nbformat_minor": 5
}
