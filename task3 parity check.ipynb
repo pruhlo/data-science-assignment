{
 "cells": [
  {
   "cell_type": "markdown",
   "id": "916ba97b",
   "metadata": {},
   "source": [
    "<img src='https://github.com/pruhlo/data-science-assignment/blob/master/assets/task3.PNG?raw=true'>"
   ]
  },
  {
   "cell_type": "markdown",
   "id": "727d6d9d",
   "metadata": {},
   "source": [
    "[Парним](https://uk.wikipedia.org/wiki/Парність_(математика) називається таке число, яке можна поділити на 2 без остачі, тоді як непарне число ділиться на два з остачею"
   ]
  },
  {
   "cell_type": "code",
   "execution_count": 1,
   "id": "78d4ec20",
   "metadata": {},
   "outputs": [],
   "source": [
    "def check_user_input(input):\n",
    "    try:\n",
    "        # Convert it into integer\n",
    "        val = int(input)\n",
    "        print(\"Input is an integer number. Number = \", val)\n",
    "        return val\n",
    "    except ValueError:\n",
    "        try:\n",
    "            # Convert it into float\n",
    "            val = float(input)\n",
    "            print(\"Input is a float  number. Number = \", val)\n",
    "            return val\n",
    "        except ValueError:\n",
    "            print(\"No.. input is not a number. It's a string\")\n",
    "            return None\n",
    "\n",
    "def check_parity():\n",
    "    \"\"\"Return True or False\n",
    "    Argument:\n",
    "    integer or float number\n",
    "    \"\"\"\n",
    "    number = check_user_input(input('Enter number :'))\n",
    "    i,j = divmod(number, 2)\n",
    "    if j == 0:\n",
    "        return True\n",
    "    else:\n",
    "        return False"
   ]
  },
  {
   "cell_type": "code",
   "execution_count": 2,
   "id": "62f9e17f",
   "metadata": {},
   "outputs": [
    {
     "name": "stdout",
     "output_type": "stream",
     "text": [
      "Enter number :5\n",
      "Input is an integer number. Number =  5\n"
     ]
    },
    {
     "data": {
      "text/plain": [
       "False"
      ]
     },
     "execution_count": 2,
     "metadata": {},
     "output_type": "execute_result"
    }
   ],
   "source": [
    "check_parity()"
   ]
  }
 ],
 "metadata": {
  "kernelspec": {
   "display_name": "Python 3 (ipykernel)",
   "language": "python",
   "name": "python3"
  },
  "language_info": {
   "codemirror_mode": {
    "name": "ipython",
    "version": 3
   },
   "file_extension": ".py",
   "mimetype": "text/x-python",
   "name": "python",
   "nbconvert_exporter": "python",
   "pygments_lexer": "ipython3",
   "version": "3.10.5"
  }
 },
 "nbformat": 4,
 "nbformat_minor": 5
}
