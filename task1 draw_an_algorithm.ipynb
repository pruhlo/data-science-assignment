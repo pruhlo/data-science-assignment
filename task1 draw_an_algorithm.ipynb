{
 "cells": [
  {
   "cell_type": "markdown",
   "id": "ee6ebc3d",
   "metadata": {},
   "source": [
    "<img src='assets/task1.png'>"
   ]
  },
  {
   "cell_type": "markdown",
   "id": "4f935414",
   "metadata": {},
   "source": [
    "<img src='assets/task1 solving.png'>"
   ]
  },
  {
   "cell_type": "code",
   "execution_count": 1,
   "id": "cd3ca42f",
   "metadata": {},
   "outputs": [
    {
     "name": "stdout",
     "output_type": "stream",
     "text": [
      "Натисніть на кнопку скасувати, y/n :n\n",
      "Введіть ім'я користувача :User\n",
      "Натисніть на кнопку скасувати, y/n :n\n",
      "Введіть пароль :dfdf\n",
      "пароль невірний!\n"
     ]
    }
   ],
   "source": [
    "def button():\n",
    "    \"\"\" повертає True або False в залежності від введеного значення\n",
    "    Аргументи:\n",
    "        press_button_cancel - має бути 1 значення або \"y\" або \"n\", допустимі \"Y\" або \"N\"\n",
    "    \"\"\"\n",
    "    press_button_cancel = input('Натисніть на кнопку скасувати, y/n :')\n",
    "    if press_button_cancel == 'y' or press_button_cancel == 'Y':\n",
    "        return True\n",
    "    elif press_button_cancel == 'n' or press_button_cancel == 'N':\n",
    "        return False\n",
    "    else:\n",
    "        print('Дані введено не коректно, спробуйте ще раз (повинно бути \"y\" або \"n\")')\n",
    "        button()\n",
    "\n",
    "if button() is True:\n",
    "    print('вхід скасовано')\n",
    "else:\n",
    "    login = input(\"Введіть ім'я користувача :\")\n",
    "    if login==\"User\":\n",
    "        if button() is True:\n",
    "            print('вхід скасовано')\n",
    "        else:\n",
    "            password = input(\"Введіть пароль :\")\n",
    "            if password == 'password':\n",
    "                print('Ласкаво просимо!')\n",
    "            else:\n",
    "                print('пароль невірний!')\n",
    "    else:\n",
    "        print('користувач невизначений')"
   ]
  }
 ],
 "metadata": {
  "kernelspec": {
   "display_name": "Python 3 (ipykernel)",
   "language": "python",
   "name": "python3"
  },
  "language_info": {
   "codemirror_mode": {
    "name": "ipython",
    "version": 3
   },
   "file_extension": ".py",
   "mimetype": "text/x-python",
   "name": "python",
   "nbconvert_exporter": "python",
   "pygments_lexer": "ipython3",
   "version": "3.10.5"
  }
 },
 "nbformat": 4,
 "nbformat_minor": 5
}
