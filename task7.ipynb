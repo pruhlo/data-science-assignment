{
 "cells": [
  {
   "cell_type": "markdown",
   "id": "a30ec425",
   "metadata": {},
   "source": [
    "<img src='https://github.com/pruhlo/data-science-assignment/blob/master/assets/task7.PNG?raw=true'>"
   ]
  },
  {
   "cell_type": "code",
   "execution_count": 1,
   "id": "8db33eaf",
   "metadata": {},
   "outputs": [
    {
     "data": {
      "text/plain": [
       "5"
      ]
     },
     "execution_count": 1,
     "metadata": {},
     "output_type": "execute_result"
    }
   ],
   "source": [
    "from typing import Union\n",
    "\n",
    "def compare_values(x: Union[int, float], y: Union[int, float]):\n",
    "    \"\"\"\n",
    "    Return the greater of two values\n",
    "    Arguments:\n",
    "    x, y - is numbers, type must be int or float\"\"\"\n",
    "    if x>y:\n",
    "        return x\n",
    "    else:\n",
    "        return y\n",
    "compare_values(2,5)"
   ]
  },
  {
   "cell_type": "code",
   "execution_count": 2,
   "id": "2cf49737",
   "metadata": {},
   "outputs": [
    {
     "data": {
      "text/plain": [
       "4"
      ]
     },
     "execution_count": 2,
     "metadata": {},
     "output_type": "execute_result"
    }
   ],
   "source": [
    "def power(x: (int, float), n: int) -> (int, float):\n",
    "    \"\"\"Return x^n\n",
    "    where, n must be >= 1\n",
    "    Arguments:\n",
    "    x - any number\n",
    "    n - the value of the degree of the number x\"\"\"\n",
    "    assert n >= 1, 'n must be >= 1'\n",
    "    return x**n\n",
    "power(2,2)"
   ]
  },
  {
   "cell_type": "code",
   "execution_count": 3,
   "id": "a09b66a0",
   "metadata": {},
   "outputs": [],
   "source": [
    "def factorial(x: int) -> int:\n",
    "    return __import__('numpy').math.factorial(x)"
   ]
  },
  {
   "cell_type": "code",
   "execution_count": 4,
   "id": "137777ab",
   "metadata": {},
   "outputs": [],
   "source": [
    "def factorial(x: int) -> int:\n",
    "    n=1\n",
    "    result = 1\n",
    "    while n < x+1:\n",
    "        result *= n\n",
    "        n +=1\n",
    "    return result"
   ]
  }
 ],
 "metadata": {
  "kernelspec": {
   "display_name": "Python 3 (ipykernel)",
   "language": "python",
   "name": "python3"
  },
  "language_info": {
   "codemirror_mode": {
    "name": "ipython",
    "version": 3
   },
   "file_extension": ".py",
   "mimetype": "text/x-python",
   "name": "python",
   "nbconvert_exporter": "python",
   "pygments_lexer": "ipython3",
   "version": "3.10.5"
  }
 },
 "nbformat": 4,
 "nbformat_minor": 5
}
