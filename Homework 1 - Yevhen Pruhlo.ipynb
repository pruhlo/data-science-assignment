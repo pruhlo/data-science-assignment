{
 "cells": [
  {
   "cell_type": "markdown",
   "id": "16ace136",
   "metadata": {},
   "source": [
    "<img src='https://github.com/pruhlo/data-science-assignment/blob/master/assets/lab_work1.PNG?raw=true'>"
   ]
  },
  {
   "cell_type": "markdown",
   "id": "ce10ba05",
   "metadata": {},
   "source": [
    "Скачайте notebook:\n",
    "http://nbviewer.org/github/jupyter/notebook/blob/main/docs/source/examples/Notebook/Working%20With%20Markdown%20Cells.ipynb"
   ]
  },
  {
   "cell_type": "markdown",
   "id": "39904a06",
   "metadata": {},
   "source": [
    "<h2 style='text-align:center;'> markdown 'туторіал':</h2>\n",
    "\n",
    "[**Italics and Bold**](https://www.markdowntutorial.com/lesson/1/)  \n",
    "[**Headers**](https://www.markdowntutorial.com/lesson/2/)  \n",
    "[**Links**](https://www.markdowntutorial.com/lesson/3/)  \n",
    "[**Images**](https://www.markdowntutorial.com/lesson/4/)  \n",
    "[**Blockquotes**](https://www.markdowntutorial.com/lesson/5/)  \n",
    "[**Lists**](https://www.markdowntutorial.com/lesson/6/)  \n",
    "[**Paragraphs**](https://www.markdowntutorial.com/lesson/7/)  \n",
    "[**Lists**](https://www.markdowntutorial.com/lesson/8/)  \n",
    "\n",
    "References If you’d like to know more about these Markdown implementations:\n",
    ">\n",
    ">https://daringfireball.net/projects/markdown/\n",
    ">\n",
    ">https://spec.commonmark.org/dingus/\n",
    ">\n",
    ">https://johnmacfarlane.net/babelmark2/faq.html\n",
    ">\n",
    ">https://www.markdownguide.org\n",
    ">\n",
    ">https://dave.autonoma.ca/blog/2019/05/22/typesetting-markdown-part-1/\n",
    ">\n",
    ">http://idratherbewriting.com/2013/06/04/exploring-markdown-in-collaborative-authoring-to-publishing-workflows/\n",
    ">\n",
    ">https://en.wikipedia.org/wiki/Markdown#Example\n",
    ">\n",
    ">https://docs.gitlab.com/ee/user/markdown.html\n",
    ">\n",
    ">https://docs.github.com/en/github/writing-on-github/basic-writing-and-formatting-syntax"
   ]
  },
  {
   "cell_type": "markdown",
   "id": "a690678c",
   "metadata": {},
   "source": [
    "<img src='https://github.com/pruhlo/data-science-assignment/blob/master/assets/markdowntutorial_screen.png?raw=true'>"
   ]
  },
  {
   "cell_type": "markdown",
   "id": "28cc2b4e",
   "metadata": {},
   "source": [
    "<img src='https://github.com/pruhlo/data-science-assignment/blob/master/assets/lab_work1-1.PNG?raw=true'>"
   ]
  },
  {
   "cell_type": "markdown",
   "id": "070e2b15",
   "metadata": {},
   "source": [
    "# 1. Markdown cells\n",
    "* Hi! Its Main Academy&\n",
    "* All HTML tabs are suported!\n",
    "* Моя сторінка на лінкедін [Лінкедін](https://www.linkedin.com/in/yevgean-pruglo-2954b816b/)\n",
    "\n",
    "# This is Heading1\n",
    "\n",
    "## This is Heading2\n",
    "\n",
    "some grey colored text\n",
    "> This is where we can bring qoutes and present them nicely\n",
    "\n",
    "And this is the paragraph about something very important. Event math:\n",
    "\n",
    "   <p style=\"text-align:right\"> $y_{sub} = \\sqrt{(x_{sub})}$ </p>\n",
    "   \n",
    "Or python code example:\n",
    "\n",
    "```Python\n",
    "import math\n",
    "def foo():\n",
    "    return \"foo\"\n",
    "```"
   ]
  },
  {
   "cell_type": "markdown",
   "id": "73d7c48c",
   "metadata": {},
   "source": [
    "<img src='https://github.com/pruhlo/data-science-assignment/blob/master/assets/lab_work1-2.PNG?raw=true'>"
   ]
  },
  {
   "cell_type": "markdown",
   "id": "c66e6f51",
   "metadata": {},
   "source": [
    "Here is the sample mean:\n",
    "$$\\bar{y} = \\frac{1}{n}\\sum_{i=1}^{n}y_{i}$$\n",
    "\n",
    "Here is the sample variance:\n",
    "$$\\sigma^2 = \\frac{\\sum_{i=1}^{n}(y_{i} - \\bar{y})^2}{n-1}$$\n",
    "\n",
    "Here is the sample standart deviation:\n",
    "$$\\sigma = \\sqrt{\\frac{\\sum_{i=1}^{n}(y_{i} - \\bar{y})^2}{n-1}}$$"
   ]
  },
  {
   "cell_type": "code",
   "execution_count": null,
   "id": "2c11d295",
   "metadata": {},
   "outputs": [],
   "source": []
  }
 ],
 "metadata": {
  "kernelspec": {
   "display_name": "Python 3 (ipykernel)",
   "language": "python",
   "name": "python3"
  },
  "language_info": {
   "codemirror_mode": {
    "name": "ipython",
    "version": 3
   },
   "file_extension": ".py",
   "mimetype": "text/x-python",
   "name": "python",
   "nbconvert_exporter": "python",
   "pygments_lexer": "ipython3",
   "version": "3.10.5"
  }
 },
 "nbformat": 4,
 "nbformat_minor": 5
}
