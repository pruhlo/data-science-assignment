{
 "cells": [
  {
   "cell_type": "markdown",
   "id": "355b53d9",
   "metadata": {},
   "source": [
    "<img src='https://github.com/pruhlo/data-science-assignment/blob/master/assets/Quick%20task1-1.png?raw=true'>"
   ]
  },
  {
   "cell_type": "code",
   "execution_count": 1,
   "id": "1a78573a",
   "metadata": {},
   "outputs": [
    {
     "name": "stdout",
     "output_type": "stream",
     "text": [
      "Enter two numbers :1 2\n"
     ]
    },
    {
     "data": {
      "text/plain": [
       "(2, 1)"
      ]
     },
     "execution_count": 1,
     "metadata": {},
     "output_type": "execute_result"
    }
   ],
   "source": [
    "def enter_number():\n",
    "    x, y = [int(i) for i in input('Enter two numbers :').split(' ')]\n",
    "    x, y = y, x\n",
    "    return x, y\n",
    "\n",
    "enter_number()"
   ]
  },
  {
   "cell_type": "code",
   "execution_count": 3,
   "id": "d8dfda96",
   "metadata": {},
   "outputs": [
    {
     "name": "stdout",
     "output_type": "stream",
     "text": [
      "Enter two numbers :123456\n"
     ]
    },
    {
     "data": {
      "text/plain": [
       "(21, 720)"
      ]
     },
     "execution_count": 3,
     "metadata": {},
     "output_type": "execute_result"
    }
   ],
   "source": [
    "def sum_and_multiplication_number():\n",
    "    lst = [int(i) for i in list(input('Enter two numbers :'))]\n",
    "    return sum(lst), eval(str(lst)[1:-1].replace(',', '*'))\n",
    "sum_and_multiplication_number()"
   ]
  },
  {
   "cell_type": "code",
   "execution_count": 4,
   "id": "b3fd7847",
   "metadata": {},
   "outputs": [
    {
     "name": "stdout",
     "output_type": "stream",
     "text": [
      "Enter two legs :3 4\n"
     ]
    },
    {
     "data": {
      "text/plain": [
       "5.0"
      ]
     },
     "execution_count": 4,
     "metadata": {},
     "output_type": "execute_result"
    }
   ],
   "source": [
    "def get_hypotenuse():\n",
    "    a, b = [int(i) for i in input('Enter two legs :').split(' ')]\n",
    "    return (a**2 + b**2)**0.5\n",
    "get_hypotenuse()"
   ]
  },
  {
   "cell_type": "code",
   "execution_count": 5,
   "id": "2fcac87a",
   "metadata": {},
   "outputs": [
    {
     "data": {
      "text/plain": [
       "(411.1111111111111, 14800.0)"
      ]
     },
     "execution_count": 5,
     "metadata": {},
     "output_type": "execute_result"
    }
   ],
   "source": [
    "def get_mounth_sum(n, y, p):\n",
    "    k = n*y*p/100\n",
    "    s = n+k\n",
    "    m = s/(y*12)\n",
    "    return m, s\n",
    "\n",
    "get_mounth_sum(10000, 3, 16)"
   ]
  },
  {
   "cell_type": "code",
   "execution_count": 6,
   "id": "427e14e7",
   "metadata": {},
   "outputs": [
    {
     "data": {
      "text/plain": [
       "(4, 18, 14)"
      ]
     },
     "execution_count": 6,
     "metadata": {},
     "output_type": "execute_result"
    }
   ],
   "source": [
    "def get_index_words(word: str, word_: str) -> tuple:\n",
    "    alphabet = __import__('string').ascii_lowercase\n",
    "    dictionary = dict((j, i+1) for i,j in enumerate(alphabet))\n",
    "    idx = dictionary[word]\n",
    "    idx_ = dictionary[word_]\n",
    "    if idx > idx_:\n",
    "        distance = idx - idx_\n",
    "    else:\n",
    "        distance = idx_ - idx\n",
    "    return idx, idx_, distance\n",
    "\n",
    "get_index_words('d', 'r')"
   ]
  },
  {
   "cell_type": "markdown",
   "id": "761c6531",
   "metadata": {},
   "source": [
    "<img src='https://github.com/pruhlo/data-science-assignment/blob/master/assets/Quick%20task1-2.png?raw=true'>"
   ]
  },
  {
   "cell_type": "code",
   "execution_count": 7,
   "id": "c53dfeb8",
   "metadata": {},
   "outputs": [
    {
     "name": "stdout",
     "output_type": "stream",
     "text": [
      "н\n",
      "у\n",
      "Дано \n",
      "Дано стрічк\n",
      "аосрчу\n",
      "Дн тік.\n",
      ".укчіртс онаД\n",
      ".кіт нД\n",
      "13\n"
     ]
    }
   ],
   "source": [
    "string = 'Дано стрічку.'\n",
    "# 1. Спочатку виведіть третій символ цієї стрічки.\n",
    "print(string[2])\n",
    "# 2. У другому рядку виведіть передостанній символ цієї стрічки.\n",
    "print(string[-2])\n",
    "# 3. У третьому рядку виведіть перші п'ять символів цієї стрічки.\n",
    "print(string[:5])\n",
    "# 4. У четвертому рядку виведіть всюстрічку, крім останніхдвох символів.\n",
    "print(string[:-2])\n",
    "# 5. У п'ятому рядку виведіть всі символи з парними індексами (вважаючи, що індексація починається з 0, тому символи виводяться починаючи з першого).\n",
    "print(string[1::2])\n",
    "# 6. У шостому рядку виведіть всі символи з непарними індексами,тобто починаючи з другого символу стрічки.\n",
    "print(string[::2])\n",
    "# 7. У сьомому рядку виведіть всі символи в зворотному порядку.\n",
    "print(string[::-1])\n",
    "# 8. У восьмому рядку виведіть всі символи стрічки через один в зворотному порядку, починаючи зостаннього.\n",
    "print(string[::-2])\n",
    "# 9. У дев'ятому рядку виведіть довжину цього стрічки\n",
    "print(len(string))"
   ]
  },
  {
   "cell_type": "markdown",
   "id": "e9cfbf5b",
   "metadata": {},
   "source": [
    "<img src='https://github.com/pruhlo/data-science-assignment/blob/master/assets/Quick%20task1-3.png?raw=true'>"
   ]
  },
  {
   "cell_type": "code",
   "execution_count": 8,
   "id": "a20fec1b",
   "metadata": {},
   "outputs": [
    {
     "data": {
      "text/plain": [
       "2"
      ]
     },
     "execution_count": 8,
     "metadata": {},
     "output_type": "execute_result"
    }
   ],
   "source": [
    "# 1. Користувач вводить два цілих числа А і В (при цьому А < В). Виведіть всі числа від А до В включно\n",
    "def get_range() -> None:\n",
    "    x, y = [int(i) for i in input('Enter two numbers :').split(' ')]\n",
    "    if x > y:\n",
    "        print('!!!the first number must be less than the second, try again')\n",
    "        get_range()\n",
    "    else:\n",
    "        print(list(range(x,y+1)))\n",
    "# 2. Користувач вводить 10 цілих чисел. Виведіть суму цих чисел\n",
    "def get_sum_10_numbers() -> None:\n",
    "    try:\n",
    "        lst = [int(i) for i in input('Enter ten numbers :').split(' ')]\n",
    "        print(sum(lst))\n",
    "    except ValueError:\n",
    "        print('Invalid value, try again')\n",
    "        get_sum_10_numbers()\n",
    "# 3. Заповніть список випадковими цілими числами (к-сть довільна). Виведіть лише парні числа; виведіть індекси непарних чисел\n",
    "def get_random_paire_num_index_nonpaire():\n",
    "    liste = __import__('numpy').random.randint(low=1, high=10, size=(15,))\n",
    "    print(list(filter(lambda x: x%2==0, liste)))\n",
    "    print(list(map(lambda *arg: arg, *list(filter(lambda taple: taple[1]%2!=0, enumerate(liste)))))[0])\n",
    "    \n",
    "# 4. *Вивести на екран п елементів ряду Фібоначчі (п вводить користувач)\n",
    "# Ряд Фіббоначі це послідовність, в якій перші два числа рівні 0 і 1, \n",
    "#а кожне останнє число рівне сумі двох попередніх чисел.\n",
    "def fibb(n):\n",
    "    if n ==0:\n",
    "        return 0\n",
    "    elif n ==1:\n",
    "        return 1\n",
    "    else:\n",
    "        a = 0\n",
    "        b = 1\n",
    "        counter = 0\n",
    "        print(a)\n",
    "        print(b)\n",
    "        while counter < n:\n",
    "            _ = __import__('copy').copy(a)\n",
    "            a = b\n",
    "            b = _ + b\n",
    "            print(b)\n",
    "            counter += 1\n",
    "            \n",
    "# 5. Користувач вводить натуральне число. Виведіть факторіал цього числа\n",
    "def factorial(x: int) -> int:\n",
    "    n=1\n",
    "    result = 1\n",
    "    while n < x+1:\n",
    "        result *= n\n",
    "        n +=1\n",
    "    return result\n",
    "# 6. Користувач вводить 10 чисел. Знайдіть: середнє значення, медіану, стандартне відхилення\n",
    "def describe(array):\n",
    "    np = __import__('numpy')\n",
    "    array = np.array(array)\n",
    "    return array.mean(), np.median(array), array.std()\n",
    "\n",
    "def describe_manual(array):\n",
    "    array.sort()\n",
    "    mean = sum(array)/len(array)\n",
    "    \n",
    "    if len(array)%2 == 0:\n",
    "        _index = int(len(array)/2)\n",
    "        median = (array[_index] + array[_index-1])/2\n",
    "    else:\n",
    "        median = array[int(len(array)/2):int(len(array)/2)+1][0]\n",
    "    return mean, median\n",
    "# 7. Користувач вводить 10 чисел. Підрахувати кількість простих чисел із введених.\n",
    "def isprime(array):\n",
    "    prime = 0\n",
    "    for i in array:\n",
    "        prime += __import__('sympy').isprime(i)\n",
    "    return prime\n",
    "\n",
    "def isprime_manual(array):\n",
    "    prime = 0\n",
    "    for i in array:\n",
    "        if i == 1 or i==0:\n",
    "            pass\n",
    "        elif i<1:\n",
    "            pass\n",
    "        else:\n",
    "            prime += factorial(i - 1)  % i == i - 1\n",
    "    return prime\n",
    "        \n",
    "isprime_manual([-1, 0,1,2,34,5,6,])"
   ]
  },
  {
   "cell_type": "markdown",
   "id": "f122dd8f",
   "metadata": {},
   "source": [
    "Ряд Фіббоначі це послідовність, в якій перші два числа рівні 0 і 1, а кожне останнє число рівне сумі двох попередніх чисел.\n",
    "\n",
    "Просте число  — це натуральне число, яке має рівно два різних натуральних дільники (лише 1 і саме число)"
   ]
  },
  {
   "cell_type": "markdown",
   "id": "a2634dd8",
   "metadata": {},
   "source": [
    "<img src ='https://github.com/pruhlo/data-science-assignment/blob/master/assets/Quick%20task1-4.png?raw=true'>"
   ]
  },
  {
   "cell_type": "code",
   "execution_count": 9,
   "id": "3ea5a326",
   "metadata": {},
   "outputs": [
    {
     "name": "stdout",
     "output_type": "stream",
     "text": [
      "[1, 4, 9, 25, 36]\n",
      "1.4142135623730951\n",
      "[2, 3, 5]\n",
      "['ДАНО', 'СПИСОК', 'ЕЛЕМЕНТИ', 'ЯКОГО', 'Є СЛОВА.', 'ЗМІНІТЬ ЛІТЕРУ', 'КОЖНОГО СЛОВА', 'НА ВЕЛИКУ ТА ВИВЕДІТЬ ОТРИМАНИЙ СПИСОК']\n"
     ]
    }
   ],
   "source": [
    "# 1.\tДана послідовність чисел. Піднесіть всі елементи до квадрату та виведіть список\n",
    "print(list(map(lambda x: x**2, [1,2,3,5,6,])))\n",
    "\n",
    "# 2.\tНапишіть функцію, що приймає координати двох точок та виводить відстань між ними\n",
    "def get_dist(coord_x, coord_y):\n",
    "    return ((coord_x[1]-coord_x[0])**2+(coord_y[1]-coord_y[0])**2)**0.5\n",
    "\n",
    "print(get_dist((2,3), (4,5)))\n",
    "\n",
    "# 3.\tДана послідовність натуральних чисел. Відфільтруйте та виведіть лише прості числа\n",
    "print(list(filter(__import__('sympy').isprime, [1,2,3,5,6,])))\n",
    "\n",
    "# 4.\n",
    "liste = ['Дано', 'список', 'елементи', 'якого', 'є слова.', 'Змініть літеру', 'кожного слова', \n",
    "         'на велику та виведіть отриманий список']\n",
    "print(list(map(lambda string: string.upper(), liste)))"
   ]
  },
  {
   "cell_type": "code",
   "execution_count": null,
   "id": "3d118833",
   "metadata": {},
   "outputs": [],
   "source": []
  }
 ],
 "metadata": {
  "kernelspec": {
   "display_name": "Python 3 (ipykernel)",
   "language": "python",
   "name": "python3"
  },
  "language_info": {
   "codemirror_mode": {
    "name": "ipython",
    "version": 3
   },
   "file_extension": ".py",
   "mimetype": "text/x-python",
   "name": "python",
   "nbconvert_exporter": "python",
   "pygments_lexer": "ipython3",
   "version": "3.10.5"
  }
 },
 "nbformat": 4,
 "nbformat_minor": 5
}
