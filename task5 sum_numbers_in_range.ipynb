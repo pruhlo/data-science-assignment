{
 "cells": [
  {
   "cell_type": "markdown",
   "id": "bb816eb4",
   "metadata": {},
   "source": [
    "<img src='https://github.com/pruhlo/data-science-assignment/blob/master/assets/task5.PNG?raw=true'>"
   ]
  },
  {
   "cell_type": "code",
   "execution_count": 1,
   "id": "28f96b60",
   "metadata": {},
   "outputs": [
    {
     "data": {
      "text/plain": [
       "12"
      ]
     },
     "execution_count": 1,
     "metadata": {},
     "output_type": "execute_result"
    }
   ],
   "source": [
    "def sum_from_till_for(start, stop):\n",
    "    if stop>start:\n",
    "        total = 0\n",
    "        for _ in range(start, stop+1):\n",
    "            total +=_\n",
    "        return total\n",
    "    else:\n",
    "        print('start number must be greater than stop')\n",
    "\n",
    "sum_from_till_for(-2,5)"
   ]
  },
  {
   "cell_type": "code",
   "execution_count": 2,
   "id": "b5d4f048",
   "metadata": {},
   "outputs": [
    {
     "data": {
      "text/plain": [
       "12"
      ]
     },
     "execution_count": 2,
     "metadata": {},
     "output_type": "execute_result"
    }
   ],
   "source": [
    "def sum_from_till_while(start, stop):\n",
    "    total = 0\n",
    "    while start < stop+1:\n",
    "        total += start\n",
    "        start +=1\n",
    "    return total\n",
    "\n",
    "sum_from_till_while(-2, 5)"
   ]
  }
 ],
 "metadata": {
  "kernelspec": {
   "display_name": "Python 3 (ipykernel)",
   "language": "python",
   "name": "python3"
  },
  "language_info": {
   "codemirror_mode": {
    "name": "ipython",
    "version": 3
   },
   "file_extension": ".py",
   "mimetype": "text/x-python",
   "name": "python",
   "nbconvert_exporter": "python",
   "pygments_lexer": "ipython3",
   "version": "3.10.5"
  }
 },
 "nbformat": 4,
 "nbformat_minor": 5
}
