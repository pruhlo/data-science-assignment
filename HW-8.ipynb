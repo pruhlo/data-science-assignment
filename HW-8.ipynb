{
 "cells": [
  {
   "cell_type": "markdown",
   "metadata": {
    "id": "0La3EQpJ1e9u"
   },
   "source": [
    "# Домашня робота №8"
   ]
  },
  {
   "cell_type": "markdown",
   "metadata": {
    "id": "qJRIbq9Z1e9x"
   },
   "source": [
    "## 1 Завантажити файл: [covid_19_data.csv](https://www.kaggle.com/sudalairajkumar/novel-corona-virus-2019-dataset)"
   ]
  },
  {
   "cell_type": "code",
   "execution_count": 1,
   "metadata": {
    "id": "-nHyhv8h1e9x"
   },
   "outputs": [
    {
     "data": {
      "text/html": [
       "<div>\n",
       "<style scoped>\n",
       "    .dataframe tbody tr th:only-of-type {\n",
       "        vertical-align: middle;\n",
       "    }\n",
       "\n",
       "    .dataframe tbody tr th {\n",
       "        vertical-align: top;\n",
       "    }\n",
       "\n",
       "    .dataframe thead th {\n",
       "        text-align: right;\n",
       "    }\n",
       "</style>\n",
       "<table border=\"1\" class=\"dataframe\">\n",
       "  <thead>\n",
       "    <tr style=\"text-align: right;\">\n",
       "      <th></th>\n",
       "      <th>SNo</th>\n",
       "      <th>ObservationDate</th>\n",
       "      <th>Province/State</th>\n",
       "      <th>Country/Region</th>\n",
       "      <th>Last Update</th>\n",
       "      <th>Confirmed</th>\n",
       "      <th>Deaths</th>\n",
       "      <th>Recovered</th>\n",
       "    </tr>\n",
       "  </thead>\n",
       "  <tbody>\n",
       "    <tr>\n",
       "      <th>0</th>\n",
       "      <td>1</td>\n",
       "      <td>01/22/2020</td>\n",
       "      <td>Anhui</td>\n",
       "      <td>Mainland China</td>\n",
       "      <td>1/22/2020 17:00</td>\n",
       "      <td>1.0</td>\n",
       "      <td>0.0</td>\n",
       "      <td>0.0</td>\n",
       "    </tr>\n",
       "    <tr>\n",
       "      <th>1</th>\n",
       "      <td>2</td>\n",
       "      <td>01/22/2020</td>\n",
       "      <td>Beijing</td>\n",
       "      <td>Mainland China</td>\n",
       "      <td>1/22/2020 17:00</td>\n",
       "      <td>14.0</td>\n",
       "      <td>0.0</td>\n",
       "      <td>0.0</td>\n",
       "    </tr>\n",
       "    <tr>\n",
       "      <th>2</th>\n",
       "      <td>3</td>\n",
       "      <td>01/22/2020</td>\n",
       "      <td>Chongqing</td>\n",
       "      <td>Mainland China</td>\n",
       "      <td>1/22/2020 17:00</td>\n",
       "      <td>6.0</td>\n",
       "      <td>0.0</td>\n",
       "      <td>0.0</td>\n",
       "    </tr>\n",
       "    <tr>\n",
       "      <th>3</th>\n",
       "      <td>4</td>\n",
       "      <td>01/22/2020</td>\n",
       "      <td>Fujian</td>\n",
       "      <td>Mainland China</td>\n",
       "      <td>1/22/2020 17:00</td>\n",
       "      <td>1.0</td>\n",
       "      <td>0.0</td>\n",
       "      <td>0.0</td>\n",
       "    </tr>\n",
       "    <tr>\n",
       "      <th>4</th>\n",
       "      <td>5</td>\n",
       "      <td>01/22/2020</td>\n",
       "      <td>Gansu</td>\n",
       "      <td>Mainland China</td>\n",
       "      <td>1/22/2020 17:00</td>\n",
       "      <td>0.0</td>\n",
       "      <td>0.0</td>\n",
       "      <td>0.0</td>\n",
       "    </tr>\n",
       "  </tbody>\n",
       "</table>\n",
       "</div>"
      ],
      "text/plain": [
       "   SNo ObservationDate Province/State  Country/Region      Last Update  \\\n",
       "0    1      01/22/2020          Anhui  Mainland China  1/22/2020 17:00   \n",
       "1    2      01/22/2020        Beijing  Mainland China  1/22/2020 17:00   \n",
       "2    3      01/22/2020      Chongqing  Mainland China  1/22/2020 17:00   \n",
       "3    4      01/22/2020         Fujian  Mainland China  1/22/2020 17:00   \n",
       "4    5      01/22/2020          Gansu  Mainland China  1/22/2020 17:00   \n",
       "\n",
       "   Confirmed  Deaths  Recovered  \n",
       "0        1.0     0.0        0.0  \n",
       "1       14.0     0.0        0.0  \n",
       "2        6.0     0.0        0.0  \n",
       "3        1.0     0.0        0.0  \n",
       "4        0.0     0.0        0.0  "
      ]
     },
     "execution_count": 1,
     "metadata": {},
     "output_type": "execute_result"
    }
   ],
   "source": [
    "# Місце для Вашого коду\n",
    "import pandas as pd\n",
    "import warnings\n",
    "warnings.filterwarnings('ignore')\n",
    "\n",
    "df = pd.read_csv('https://raw.githubusercontent.com/pruhlo/data-science-assignment/master/assets/covid_19_data.csv')\n",
    "df.head()\n"
   ]
  },
  {
   "cell_type": "markdown",
   "metadata": {
    "id": "orZSPs5u1e9y"
   },
   "source": [
    "## 2 Вивести перелік країн та кількість людей, у яких виявлений вірус (викорисатити для цієї задачі dict)\n",
    "Так як змінна `Confirmed` має кумулятивний формат, сгрупуємо дані з максимальним (сумарним) значенням захворівших"
   ]
  },
  {
   "cell_type": "code",
   "execution_count": 2,
   "metadata": {},
   "outputs": [
    {
     "name": "stdout",
     "output_type": "stream",
     "text": [
      "{' Azerbaijan': 1.0, \"('St. Martin',)\": 2.0, 'Afghanistan': 70111.0, 'Albania': 132297.0, 'Algeria': 128456.0, 'Andorra': 13693.0, 'Angola': 34180.0, 'Antigua and Barbuda': 1259.0, 'Argentina': 3732263.0, 'Armenia': 222555.0, 'Aruba': 4.0, 'Australia': 20593.0, 'Austria': 644207.0, 'Azerbaijan': 333723.0, 'Bahamas': 11745.0, 'Bahamas, The': 4.0, 'Bahrain': 235698.0, 'Bangladesh': 797386.0, 'Barbados': 4012.0, 'Belarus': 392629.0, 'Belgium': 515391.0, 'Belize': 12791.0, 'Benin': 8058.0, 'Bhutan': 1603.0, 'Bolivia': 366714.0, 'Bosnia and Herzegovina': 203839.0, 'Botswana': 53771.0, 'Brazil': 3254893.0, 'Brunei': 241.0, 'Bulgaria': 418221.0, 'Burkina Faso': 13430.0, 'Burma': 143526.0, 'Burundi': 4715.0, 'Cabo Verde': 30273.0, 'Cambodia': 28825.0, 'Cameroon': 78929.0, 'Canada': 537138.0, 'Cape Verde': 1.0, 'Cayman Islands': 1.0, 'Central African Republic': 7085.0, 'Chad': 4928.0, 'Channel Islands': 1.0, 'Chile': 569995.0, 'China': 0.0, 'Colombia': 951083.0, 'Comoros': 3881.0, 'Congo (Brazzaville)': 11658.0, 'Congo (Kinshasa)': 31416.0, 'Costa Rica': 314102.0, 'Croatia': 355955.0, 'Cuba': 140087.0, 'Curacao': 1.0, 'Cyprus': 72363.0, 'Czech Republic': 1660935.0, 'Denmark': 279434.0, 'Diamond Princess': 712.0, 'Djibouti': 11523.0, 'Dominica': 188.0, 'Dominican Republic': 290526.0, 'East Timor': 1.0, 'Ecuador': 424741.0, 'Egypt': 260659.0, 'El Salvador': 73246.0, 'Equatorial Guinea': 8529.0, 'Eritrea': 4061.0, 'Estonia': 129424.0, 'Eswatini': 18589.0, 'Ethiopia': 271200.0, 'Faroe Islands': 2.0, 'Fiji': 360.0, 'Finland': 92244.0, 'France': 5863138.0, 'French Guiana': 18.0, 'Gabon': 24365.0, 'Gambia': 5990.0, 'Gambia, The': 1.0, 'Georgia': 342880.0, 'Germany': 804733.0, 'Ghana': 93775.0, 'Gibraltar': 1.0, 'Greece': 400395.0, 'Greenland': 1.0, 'Grenada': 161.0, 'Guadeloupe': 53.0, 'Guam': 3.0, 'Guatemala': 253837.0, 'Guernsey': 1.0, 'Guinea': 23172.0, 'Guinea-Bissau': 3761.0, 'Guyana': 16822.0, 'Haiti': 14128.0, 'Holy See': 27.0, 'Honduras': 236952.0, 'Hong Kong': 11837.0, 'Hungary': 804032.0, 'Iceland': 6555.0, 'India': 5713215.0, 'Indonesia': 1809926.0, 'Iran': 2893218.0, 'Iraq': 1193608.0, 'Ireland': 254870.0, 'Israel': 839453.0, 'Italy': 834527.0, 'Ivory Coast': 47233.0, 'Jamaica': 48374.0, 'Japan': 160315.0, 'Jersey': 2.0, 'Jordan': 734659.0, 'Kazakhstan': 438715.0, 'Kenya': 170485.0, 'Kiribati': 2.0, 'Kosovo': 106946.0, 'Kuwait': 306717.0, 'Kyrgyzstan': 104222.0, 'Laos': 1908.0, 'Latvia': 132918.0, 'Lebanon': 540132.0, 'Lesotho': 10825.0, 'Liberia': 2179.0, 'Libya': 184815.0, 'Liechtenstein': 3008.0, 'Lithuania': 273866.0, 'Luxembourg': 69830.0, 'MS Zaandam': 9.0, 'Macau': 51.0, 'Madagascar': 41234.0, 'Mainland China': 68159.0, 'Malawi': 34329.0, 'Malaysia': 558534.0, 'Maldives': 62906.0, 'Mali': 14265.0, 'Malta': 30529.0, 'Marshall Islands': 4.0, 'Martinique': 32.0, 'Mauritania': 19463.0, 'Mauritius': 1363.0, 'Mayotte': 7.0, 'Mexico': 657832.0, 'Micronesia': 1.0, 'Moldova': 255105.0, 'Monaco': 2503.0, 'Mongolia': 56621.0, 'Montenegro': 99566.0, 'Morocco': 518868.0, 'Mozambique': 70724.0, 'Namibia': 54659.0, 'Nepal': 553422.0, 'Netherlands': 391559.0, 'New Zealand': 2672.0, 'Nicaragua': 7324.0, 'Niger': 5410.0, 'Nigeria': 166285.0, 'North Ireland': 1.0, 'North Macedonia': 155246.0, 'Norway': 124655.0, 'Oman': 213784.0, 'Others': 712.0, 'Pakistan': 339073.0, 'Palestine': 22.0, 'Panama': 377428.0, 'Papua New Guinea': 15772.0, 'Paraguay': 350613.0, 'Peru': 878346.0, 'Philippines': 1216582.0, 'Poland': 2871371.0, 'Portugal': 848213.0, 'Puerto Rico': 3.0, 'Qatar': 217041.0, 'Republic of Ireland': 21.0, 'Republic of the Congo': 1.0, 'Reunion': 45.0, 'Romania': 1077426.0, 'Russia': 1173637.0, 'Rwanda': 26892.0, 'Saint Barthelemy': 3.0, 'Saint Kitts and Nevis': 68.0, 'Saint Lucia': 5035.0, 'Saint Vincent and the Grenadines': 2027.0, 'Samoa': 3.0, 'San Marino': 5089.0, 'Sao Tome and Principe': 2345.0, 'Saudi Arabia': 448284.0, 'Senegal': 41331.0, 'Serbia': 712046.0, 'Seychelles': 11145.0, 'Sierra Leone': 4141.0, 'Singapore': 62003.0, 'Slovakia': 389440.0, 'Slovenia': 253493.0, 'Solomon Islands': 20.0, 'Somalia': 14653.0, 'South Africa': 1659070.0, 'South Korea': 139910.0, 'South Sudan': 10688.0, 'Spain': 714616.0, 'Sri Lanka': 180593.0, 'St. Martin': 2.0, 'Sudan': 35289.0, 'Suriname': 14515.0, 'Sweden': 251285.0, 'Switzerland': 693023.0, 'Syria': 24440.0, 'Taiwan': 7806.0, 'Tajikistan': 13308.0, 'Tanzania': 509.0, 'Thailand': 151842.0, 'The Bahamas': 1.0, 'The Gambia': 1.0, 'Timor-Leste': 6752.0, 'Togo': 13432.0, 'Trinidad and Tobago': 23001.0, 'Tunisia': 343374.0, 'Turkey': 5235978.0, 'UK': 3910803.0, 'US': 3788713.0, 'Uganda': 45931.0, 'Ukraine': 206278.0, 'United Arab Emirates': 567263.0, 'Uruguay': 288172.0, 'Uzbekistan': 99844.0, 'Vanuatu': 4.0, 'Vatican City': 1.0, 'Venezuela': 231443.0, 'Vietnam': 6908.0, 'West Bank and Gaza': 307838.0, 'Yemen': 6731.0, 'Zambia': 94751.0, 'Zimbabwe': 38933.0, 'occupied Palestinian territory': 25.0}\n"
     ]
    }
   ],
   "source": [
    "Dict = df.groupby('Country/Region').max()['Confirmed'].to_dict()\n",
    "print(Dict)"
   ]
  },
  {
   "cell_type": "markdown",
   "metadata": {},
   "source": [
    "Сгрупую спочатку області(регіони) `Province/State`  з максимальною кількістю `Confirmed` , а потім проведу групування по країні `Country/Region` але вже сумовано: "
   ]
  },
  {
   "cell_type": "code",
   "execution_count": null,
   "metadata": {},
   "outputs": [],
   "source": [
    "from IPython.core.display import HTML, display\n",
    "display(HTML(df.to_html()))"
   ]
  },
  {
   "cell_type": "code",
   "execution_count": 3,
   "metadata": {},
   "outputs": [
    {
     "data": {
      "text/plain": [
       "Country/Region\n",
       "Australia            30096.0\n",
       "Belgium             979915.0\n",
       "Brazil            16085772.0\n",
       "Canada             1384397.0\n",
       "Chile              1369543.0\n",
       "Colombia           3356735.0\n",
       "Denmark               2075.0\n",
       "France              134825.0\n",
       "Germany            3679551.0\n",
       "Hong Kong            11837.0\n",
       "India             27331991.0\n",
       "Israel                   8.0\n",
       "Italy              4213055.0\n",
       "Japan               742531.0\n",
       "Lebanon                  2.0\n",
       "Macau                   51.0\n",
       "Mainland China       91072.0\n",
       "Mexico             2411548.0\n",
       "Netherlands        1671716.0\n",
       "Others                  61.0\n",
       "Pakistan           1142694.0\n",
       "Peru               2304864.0\n",
       "Russia             4995613.0\n",
       "Spain              3668658.0\n",
       "Sweden             1068473.0\n",
       "Taiwan                  47.0\n",
       "UK                 4618582.0\n",
       "US                33253310.0\n",
       "Ukraine            2257904.0\n",
       "Name: Confirmed, dtype: float64"
      ]
     },
     "execution_count": 3,
     "metadata": {},
     "output_type": "execute_result"
    }
   ],
   "source": [
    "df.groupby('Province/State').max().groupby('Country/Region').sum()['Confirmed']"
   ]
  },
  {
   "cell_type": "markdown",
   "metadata": {},
   "source": [
    "# 3 Dict з агрегованими даними запакувати за допомогою модуля [pickle][link] та відправити іншому студенту курсу.\n",
    "\n",
    "[link]: http://nbviewer.org/github/pruhlo/NB/blob/master/pickle%20module.ipynb"
   ]
  },
  {
   "cell_type": "code",
   "execution_count": 8,
   "metadata": {},
   "outputs": [],
   "source": [
    "import pickle\n",
    "\n",
    "# Відкрити файл для запису\n",
    "with open('myfile1.bin', 'wb') as f:\n",
    "    pickle.dump(Dict, f) # Зберегти словник Dict у файлі f (myfile.bin)"
   ]
  },
  {
   "cell_type": "markdown",
   "metadata": {},
   "source": [
    "# 4 Завантажити  дані та порівняти їх з початковим словником."
   ]
  },
  {
   "cell_type": "code",
   "execution_count": 4,
   "metadata": {},
   "outputs": [
    {
     "name": "stdout",
     "output_type": "stream",
     "text": [
      "True\n"
     ]
    }
   ],
   "source": [
    "from urllib.request import urlopen\n",
    "from io import BytesIO\n",
    "\n",
    "url = 'https://github.com/pruhlo/data-science-assignment/blob/master/assets/myfile.bin?raw=true'\n",
    "raw = BytesIO(urlopen(url).read())\n",
    "D = pickle.load(raw)\n",
    "print(D == Dict)"
   ]
  },
  {
   "cell_type": "code",
   "execution_count": 9,
   "metadata": {},
   "outputs": [
    {
     "name": "stdout",
     "output_type": "stream",
     "text": [
      "True\n"
     ]
    }
   ],
   "source": [
    "from urllib.request import urlopen\n",
    "from io import BytesIO\n",
    "\n",
    "url = 'https://github.com/pruhlo/data-science-assignment/blob/master/assets/myfile1.bin?raw=true'\n",
    "raw = BytesIO(urlopen(url).read())\n",
    "D = pickle.load(raw)\n",
    "print(D == Dict)"
   ]
  },
  {
   "cell_type": "code",
   "execution_count": 10,
   "metadata": {},
   "outputs": [
    {
     "data": {
      "text/plain": [
       "{'Australia': 30096.0,\n",
       " 'Belgium': 979915.0,\n",
       " 'Brazil': 16085772.0,\n",
       " 'Canada': 1384397.0,\n",
       " 'Chile': 1369543.0,\n",
       " 'Colombia': 3356735.0,\n",
       " 'Denmark': 2075.0,\n",
       " 'France': 134825.0,\n",
       " 'Germany': 3679551.0,\n",
       " 'Hong Kong': 11837.0,\n",
       " 'India': 27331991.0,\n",
       " 'Israel': 8.0,\n",
       " 'Italy': 4213055.0,\n",
       " 'Japan': 742531.0,\n",
       " 'Lebanon': 2.0,\n",
       " 'Macau': 51.0,\n",
       " 'Mainland China': 91072.0,\n",
       " 'Mexico': 2411548.0,\n",
       " 'Netherlands': 1671716.0,\n",
       " 'Others': 61.0,\n",
       " 'Pakistan': 1142694.0,\n",
       " 'Peru': 2304864.0,\n",
       " 'Russia': 4995613.0,\n",
       " 'Spain': 3668658.0,\n",
       " 'Sweden': 1068473.0,\n",
       " 'Taiwan': 47.0,\n",
       " 'UK': 4618582.0,\n",
       " 'US': 33253310.0,\n",
       " 'Ukraine': 2257904.0}"
      ]
     },
     "execution_count": 10,
     "metadata": {},
     "output_type": "execute_result"
    }
   ],
   "source": [
    "D"
   ]
  },
  {
   "cell_type": "code",
   "execution_count": null,
   "metadata": {},
   "outputs": [],
   "source": []
  }
 ],
 "metadata": {
  "colab": {
   "collapsed_sections": [],
   "provenance": []
  },
  "kernelspec": {
   "display_name": "Python 3 (ipykernel)",
   "language": "python",
   "name": "python3"
  },
  "language_info": {
   "codemirror_mode": {
    "name": "ipython",
    "version": 3
   },
   "file_extension": ".py",
   "mimetype": "text/x-python",
   "name": "python",
   "nbconvert_exporter": "python",
   "pygments_lexer": "ipython3",
   "version": "3.10.5"
  }
 },
 "nbformat": 4,
 "nbformat_minor": 1
}
