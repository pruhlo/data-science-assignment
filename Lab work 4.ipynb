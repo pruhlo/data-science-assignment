{
 "cells": [
  {
   "cell_type": "markdown",
   "metadata": {},
   "source": [
    "___\n",
    "\n",
    "<a href='https://mainacademy.ua/'> <img src='https://mainacademy.ua/wp-content/uploads/2019/03/logo-main.png' alt = 'Хмм, щось з інтернетом'/></a>\n",
    "___\n",
    "\n",
    "# Module 4: Work with data professionally!"
   ]
  },
  {
   "cell_type": "markdown",
   "metadata": {},
   "source": [
    "## Lab work 4\n",
    "\n"
   ]
  },
  {
   "cell_type": "markdown",
   "metadata": {},
   "source": [
    "#### Мета: \n",
    "\n",
    "* навчитися обробляти дані\n",
    "* \"парсити\" сайти"
   ]
  },
  {
   "cell_type": "markdown",
   "metadata": {},
   "source": [
    "### Завдання 1:"
   ]
  },
  {
   "cell_type": "markdown",
   "metadata": {},
   "source": [
    "#### Ознайомитися із API Національного банку \n",
    "https://old.bank.gov.ua/control/uk/publish/article?art_id=38441973&cat_id=38459171#exchange\n",
    "\n"
   ]
  },
  {
   "cell_type": "markdown",
   "metadata": {},
   "source": [
    "1. Підключитися до API.\n"
   ]
  },
  {
   "cell_type": "code",
   "execution_count": 1,
   "metadata": {},
   "outputs": [
    {
     "name": "stdout",
     "output_type": "stream",
     "text": [
      "<Response [200]>\n"
     ]
    }
   ],
   "source": [
    "import requests\n",
    "\n",
    "url = 'https://bank.gov.ua/NBUStatService/v1/statdirectory/exchange?json'\n",
    "params = {'valcode' : 'EUR'} \n",
    "\n",
    "response = requests.get(url, params=params)\n",
    "print(response)"
   ]
  },
  {
   "cell_type": "markdown",
   "metadata": {},
   "source": [
    "2. Отримати курс євро за останній рік."
   ]
  },
  {
   "cell_type": "code",
   "execution_count": 2,
   "metadata": {},
   "outputs": [],
   "source": [
    "import datetime as DT\n",
    "import requests\n",
    "\n",
    "annual_exchange_rate_EURO = {} # ініціалізую словник для подобового значення курсу євро\n",
    "\n",
    "params = {'date' : '20221018', 'valcode' : 'EUR'} #задамо параметри згідно з документацією API\n",
    "url = 'https://bank.gov.ua/NBUStatService/v1/statdirectory/exchange?json' # задамо адресу ресурсу\n",
    "date = DT.datetime.now() # задамо сьогоднішню датау\n",
    "\n",
    "for day in range(366): # цикл з 365 днів\n",
    "    params['date'] = (date - DT.timedelta(days=day)).strftime('%Y%m%d') # зміна дати в параметрах запиту\n",
    "    try:\n",
    "        response = requests.get(url, params=params) # дані GET запиту\n",
    "        data = response.json()[0] # запис необхідних даних  у змінну\n",
    "        annual_exchange_rate_EURO[data['exchangedate']] = data['rate'] # заповнення словника\n",
    "        start_time += DT.timedelta(days=day) # перезадаємо наступну дату для запиту\n",
    "    except:\n",
    "        print('error')\n",
    "        break"
   ]
  },
  {
   "cell_type": "markdown",
   "metadata": {},
   "source": [
    "### Працює скрипт через раз, гадаю що проблеми на сервері, тому запишу отримані дані:"
   ]
  },
  {
   "cell_type": "code",
   "execution_count": 3,
   "metadata": {},
   "outputs": [],
   "source": [
    "# import pickle\n",
    "\n",
    "# with open('annual_exchange_rate_EURO.bin', 'bw') as f:\n",
    "#     pickle.dump(annual_exchange_rate_EURO, f)"
   ]
  },
  {
   "cell_type": "code",
   "execution_count": 4,
   "metadata": {},
   "outputs": [],
   "source": [
    "# зчитую отримані дані:\n",
    "from io import BytesIO\n",
    "from urllib.request import urlopen\n",
    "import pickle\n",
    "\n",
    "url = 'https://github.com/pruhlo/data-science-assignment/blob/master/assets/annual_exchange_rate_EURO.bin?raw=true'\n",
    "raw = BytesIO(urlopen(url).read())\n",
    "EURO = pickle.load(raw)"
   ]
  },
  {
   "cell_type": "markdown",
   "metadata": {},
   "source": [
    "3. Вивести середнє значення та відхилення курсу за кожний місяць."
   ]
  },
  {
   "cell_type": "code",
   "execution_count": 1,
   "metadata": {},
   "outputs": [],
   "source": [
    "import datetime as DT\n",
    "import numpy as np\n",
    "import pandas as pd"
   ]
  },
  {
   "cell_type": "code",
   "execution_count": 6,
   "metadata": {},
   "outputs": [
    {
     "name": "stdout",
     "output_type": "stream",
     "text": [
      "CPU times: total: 0 ns\n",
      "Wall time: 9.99 ms\n"
     ]
    }
   ],
   "source": [
    "%%time\n",
    "\n",
    "month_EURO ={} # ініціалізуємо словник з місячними значеннями курсу євро\n",
    "\n",
    "for key in EURO.keys():\n",
    "    month = DT.datetime.strptime(key, '%d.%m.%Y').strftime(\"%B\") # створимо ключ(місяць)\n",
    "    try:\n",
    "        month_EURO[month].append(float(EURO[key])) # якщо в словнику є даний список доповнимо його\n",
    "    except KeyError:\n",
    "        month_EURO[month] = [float(EURO[key])] # якщо в словнику не має списку створимо його\n",
    "        \n",
    "describe_month_EURO = {} # словник для \n",
    "\n",
    "for key in month_EURO.keys():\n",
    "    describe_month_EURO[key + ' mean'] = np.mean(month_EURO[key])\n",
    "    describe_month_EURO[key + ' std'] = np.std(month_EURO[key])"
   ]
  },
  {
   "cell_type": "code",
   "execution_count": 7,
   "metadata": {},
   "outputs": [
    {
     "name": "stdout",
     "output_type": "stream",
     "text": [
      "CPU times: total: 15.6 ms\n",
      "Wall time: 15 ms\n"
     ]
    }
   ],
   "source": [
    "%%time\n",
    "\n",
    "df = pd.DataFrame.from_dict({'date':EURO.keys(), 'EURO':EURO.values()})\n",
    "df.date = pd.to_datetime(df.date, format='%d.%m.%Y') # якщо не вказати формат можливо буде помилка при групуванні\n",
    "\n",
    "result = pd.DataFrame(columns=['mean', 'std'], index=list(range(1,13)))\n",
    "result['mean'] = df.groupby(df.date.dt.month)['EURO'].mean()\n",
    "result['std'] = df.groupby(df.date.dt.month)['EURO'].std()"
   ]
  },
  {
   "cell_type": "code",
   "execution_count": 83,
   "metadata": {},
   "outputs": [],
   "source": [
    "# result"
   ]
  },
  {
   "cell_type": "code",
   "execution_count": 8,
   "metadata": {},
   "outputs": [
    {
     "name": "stdout",
     "output_type": "stream",
     "text": [
      "CPU times: total: 797 ms\n",
      "Wall time: 823 ms\n"
     ]
    }
   ],
   "source": [
    "%%time\n",
    "\n",
    "# Ще спосіб групування за допомогою pandas та datetime\n",
    "DF = pd.DataFrame(columns=['data', 'month', 'EURO'])\n",
    "\n",
    "for key in EURO:\n",
    "    DF.loc[len(DF.index)] = [key, DT.datetime.strptime(key, '%d.%m.%Y').strftime(\"%B\"), EURO[key]]\n",
    "\n",
    "groupBy = DF.groupby('month').mean(numeric_only=True) # numeric_only=True >>> без вказування помилка\n",
    "groupBy['sdt'] = DF.groupby('month').std(numeric_only=True)"
   ]
  },
  {
   "cell_type": "markdown",
   "metadata": {},
   "source": [
    "4. Дану інформацію записати у файл за допомогою pickle."
   ]
  },
  {
   "cell_type": "code",
   "execution_count": 9,
   "metadata": {},
   "outputs": [],
   "source": [
    "import pickle\n",
    "\n",
    "with open('mydata_LW-4.bin', 'bw') as f:\n",
    "    pickle.dump(month_EURO, f)\n",
    "    pickle.dump(describe_month_EURO, f)\n",
    "    pickle.dump(df, f)\n",
    "    pickle.dump(result, f)\n",
    "    pickle.dump(DF, f)\n",
    "    pickle.dump(groupBy, f)"
   ]
  },
  {
   "cell_type": "code",
   "execution_count": 29,
   "metadata": {},
   "outputs": [],
   "source": [
    "# ПРОЧИТАТИ з репозиторію вказані дані\n",
    "# url = 'https://github.com/pruhlo/data-science-assignment/blob/master/assets/mydata_LW-4.bin?raw=true'\n",
    "# raw = BytesIO(urlopen(url).read())\n",
    "# month_EURO1 = pickle.load(raw)\n",
    "# describe_month_EURO1 = pickle.load(raw)\n",
    "# df1 = pickle.load(raw)\n",
    "# result1 = pickle.load(raw)\n",
    "# DF1 = pickle.load(raw)\n",
    "# groupBy1 = pickle.load(raw)"
   ]
  },
  {
   "cell_type": "markdown",
   "metadata": {},
   "source": [
    "### Завдання 2:"
   ]
  },
  {
   "cell_type": "markdown",
   "metadata": {},
   "source": [
    "Потрібно проаналізувати всі товари на сайті: \n",
    "https://smallpacking.agrosem.ua/shop/"
   ]
  },
  {
   "cell_type": "markdown",
   "metadata": {},
   "source": [
    "Створіть базу даних, що містить таблицю із такими стовбцями: \n",
    "    - артикул товару\n",
    "    - найменування\n",
    "    - ціна \n",
    "    - вага"
   ]
  },
  {
   "cell_type": "code",
   "execution_count": 16,
   "metadata": {},
   "outputs": [
    {
     "data": {
      "text/html": [
       "<div>\n",
       "<style scoped>\n",
       "    .dataframe tbody tr th:only-of-type {\n",
       "        vertical-align: middle;\n",
       "    }\n",
       "\n",
       "    .dataframe tbody tr th {\n",
       "        vertical-align: top;\n",
       "    }\n",
       "\n",
       "    .dataframe thead th {\n",
       "        text-align: right;\n",
       "    }\n",
       "</style>\n",
       "<table border=\"1\" class=\"dataframe\">\n",
       "  <thead>\n",
       "    <tr style=\"text-align: right;\">\n",
       "      <th></th>\n",
       "      <th>id</th>\n",
       "      <th>name</th>\n",
       "      <th>weight</th>\n",
       "      <th>price</th>\n",
       "    </tr>\n",
       "  </thead>\n",
       "  <tbody>\n",
       "    <tr>\n",
       "      <th>0</th>\n",
       "      <td>1604</td>\n",
       "      <td>ДОБРИВО ДЛЯ ОРХІДЕЙ</td>\n",
       "      <td>180 г</td>\n",
       "      <td>119.00</td>\n",
       "    </tr>\n",
       "    <tr>\n",
       "      <th>1</th>\n",
       "      <td>1609</td>\n",
       "      <td>ДОБРИВО ДЛЯ ТРОЯНД ТА КВІТУЧИХ РОСЛИН</td>\n",
       "      <td>180 г</td>\n",
       "      <td>119.00</td>\n",
       "    </tr>\n",
       "    <tr>\n",
       "      <th>2</th>\n",
       "      <td>1600</td>\n",
       "      <td>ДОБРИВО ДЛЯ КВІТУЧИХ КІМНАТНИХ РОСЛИН</td>\n",
       "      <td>180 г</td>\n",
       "      <td>119.00</td>\n",
       "    </tr>\n",
       "    <tr>\n",
       "      <th>3</th>\n",
       "      <td>1599</td>\n",
       "      <td>ДОБРИВО ДЛЯ ДЕКОРАТИВНО-ЛИСТЯНИХ КІМНАТНИХ РОСЛИН</td>\n",
       "      <td>180 г</td>\n",
       "      <td>119.00</td>\n",
       "    </tr>\n",
       "    <tr>\n",
       "      <th>4</th>\n",
       "      <td>1522</td>\n",
       "      <td>ДОБРИВО ДЛЯ ДЕКОРАТИВНИХ ЛИСТОВИХ</td>\n",
       "      <td>3 кг</td>\n",
       "      <td>499.00</td>\n",
       "    </tr>\n",
       "    <tr>\n",
       "      <th>...</th>\n",
       "      <td>...</td>\n",
       "      <td>...</td>\n",
       "      <td>...</td>\n",
       "      <td>...</td>\n",
       "    </tr>\n",
       "    <tr>\n",
       "      <th>1039</th>\n",
       "      <td>1600</td>\n",
       "      <td>ДОБРИВО ДЛЯ КВІТУЧИХ КІМНАТНИХ РОСЛИН</td>\n",
       "      <td>180 г</td>\n",
       "      <td>119.00</td>\n",
       "    </tr>\n",
       "    <tr>\n",
       "      <th>1040</th>\n",
       "      <td>1599</td>\n",
       "      <td>ДОБРИВО ДЛЯ ДЕКОРАТИВНО-ЛИСТЯНИХ КІМНАТНИХ РОСЛИН</td>\n",
       "      <td>180 г</td>\n",
       "      <td>119.00</td>\n",
       "    </tr>\n",
       "    <tr>\n",
       "      <th>1041</th>\n",
       "      <td>1608</td>\n",
       "      <td>ДОБРИВО ДЛЯ САМШИТУ ТА ВІЧНОЗЕЛЕНИХ ЧАГАРНИКІВ</td>\n",
       "      <td>180 г</td>\n",
       "      <td>119.00</td>\n",
       "    </tr>\n",
       "    <tr>\n",
       "      <th>1042</th>\n",
       "      <td>1610</td>\n",
       "      <td>ДОБРИВО ДЛЯ ХВОЙНИХ РОСЛИН</td>\n",
       "      <td>180 г</td>\n",
       "      <td>129.00</td>\n",
       "    </tr>\n",
       "    <tr>\n",
       "      <th>1043</th>\n",
       "      <td>1582</td>\n",
       "      <td>ДОБРИВО НА ОСНОВІ ВИТЯЖКИ МОРСЬКИХ ВОДОРОСТЕЙ ...</td>\n",
       "      <td>0.5 л</td>\n",
       "      <td>299.00</td>\n",
       "    </tr>\n",
       "  </tbody>\n",
       "</table>\n",
       "<p>1044 rows × 4 columns</p>\n",
       "</div>"
      ],
      "text/plain": [
       "        id                                               name weight   price\n",
       "0     1604                                ДОБРИВО ДЛЯ ОРХІДЕЙ  180 г  119.00\n",
       "1     1609              ДОБРИВО ДЛЯ ТРОЯНД ТА КВІТУЧИХ РОСЛИН  180 г  119.00\n",
       "2     1600              ДОБРИВО ДЛЯ КВІТУЧИХ КІМНАТНИХ РОСЛИН  180 г  119.00\n",
       "3     1599  ДОБРИВО ДЛЯ ДЕКОРАТИВНО-ЛИСТЯНИХ КІМНАТНИХ РОСЛИН  180 г  119.00\n",
       "4     1522                  ДОБРИВО ДЛЯ ДЕКОРАТИВНИХ ЛИСТОВИХ   3 кг  499.00\n",
       "...    ...                                                ...    ...     ...\n",
       "1039  1600              ДОБРИВО ДЛЯ КВІТУЧИХ КІМНАТНИХ РОСЛИН  180 г  119.00\n",
       "1040  1599  ДОБРИВО ДЛЯ ДЕКОРАТИВНО-ЛИСТЯНИХ КІМНАТНИХ РОСЛИН  180 г  119.00\n",
       "1041  1608     ДОБРИВО ДЛЯ САМШИТУ ТА ВІЧНОЗЕЛЕНИХ ЧАГАРНИКІВ  180 г  119.00\n",
       "1042  1610                         ДОБРИВО ДЛЯ ХВОЙНИХ РОСЛИН  180 г  129.00\n",
       "1043  1582  ДОБРИВО НА ОСНОВІ ВИТЯЖКИ МОРСЬКИХ ВОДОРОСТЕЙ ...  0.5 л  299.00\n",
       "\n",
       "[1044 rows x 4 columns]"
      ]
     },
     "execution_count": 16,
     "metadata": {},
     "output_type": "execute_result"
    }
   ],
   "source": [
    "import requests\n",
    "import pandas as pd\n",
    "from bs4 import BeautifulSoup\n",
    "\n",
    "def make_req(url, page):\n",
    "    \n",
    "    ''' Query with nuber of page into web store\n",
    "    HEADERS see: https://raw.githubusercontent.com/Lidkins/DS/915bdbd30ca3b0dd2fc507db94b41ee62cbcebf3/Lab%20work%204.ipynb'''\n",
    "#     HEADERS = {\n",
    "#              'User-Agent': 'Mozilla/5.0 (Windows NT 6.1; WOW64; rv:49.0) Gecko/20100101 Firefox/49.0',\n",
    "#              'Accept': 'text/html,application/xhtml+xml,application/xml;q=0.9,*/*;q=0.8',\n",
    "#              'Accept-Language': 'ua-UA,en;q=0.5',\n",
    "#              'Accept-Encoding': 'gzip, deflate',\n",
    "#              'DNT': '1',\n",
    "#              'Connection': 'keep-alive',\n",
    "#              'Upgrade-Insecure-Requests': '1',\n",
    "#              'page':f'{page}'\n",
    "    HEADERS = {\n",
    "    'Accept': 'text/html,application/xhtml+xml,application/xml;q=0.9,image/avif,image/webp,image/apng,*/*;q=0.8,application/signed-exchange;v=b3;q=0.9',\n",
    "    'User-Agent': 'Mozilla/5.0 (Windows NT 10.0; Win64; x64) AppleWebKit/537.36 (KHTML, like Gecko) Chrome/102.0.5005.63 Safari/537.36',\n",
    "    }\n",
    "#     headers = {\n",
    "#         'User-Agent': 'Mozilla/5.0',\n",
    "#         'page':f'{page}'}\n",
    "    resp = requests.get(url, headers=HEADERS, params = {'page': f'{page}'})\n",
    "    return resp\n",
    "\n",
    "def get_data(df):\n",
    "    base_select_tags = 'div.item' # базовий тег для отримання даних\n",
    "    for page in range(1,30):\n",
    "        url = 'https://smallpacking.agrosem.ua/' # URLs сторінок з данними\n",
    "        response = make_req(url, page) # результат запиту\n",
    "        soup = BeautifulSoup(response.text, 'html.parser') # об'єкт супу\n",
    "        list_tags = [i.get('content') for i in soup.select(f'{base_select_tags}')] # витягаємо контент\n",
    "        for _ in list_tags:\n",
    "            dicty = eval(_) # отримуємо словник\n",
    "            df.loc[len(df.index)] = dicty # додаємо рядок до датафрейму\n",
    "    return df\n",
    "\n",
    "df = pd.DataFrame(columns=['id', 'name', 'weight', 'price'])\n",
    "\n",
    "df = get_data(df)\n",
    "df"
   ]
  },
  {
   "cell_type": "code",
   "execution_count": 18,
   "metadata": {},
   "outputs": [
    {
     "data": {
      "text/plain": [
       "26"
      ]
     },
     "execution_count": 18,
     "metadata": {},
     "output_type": "execute_result"
    }
   ],
   "source": [
    "df.id.nunique()"
   ]
  },
  {
   "cell_type": "markdown",
   "metadata": {},
   "source": [
    "### Завдання 3: "
   ]
  },
  {
   "cell_type": "markdown",
   "metadata": {},
   "source": [
    "Ознайомтеся із роботою SQLite та відповідним модулем у Python.\n",
    "Завантажте базу даних для виконання лабораторної роботи.\n",
    "Підключіться до завантаженої бази SQLite."
   ]
  },
  {
   "cell_type": "markdown",
   "metadata": {},
   "source": [
    "1. Виведіть інформацію про дану базу."
   ]
  },
  {
   "cell_type": "code",
   "execution_count": 19,
   "metadata": {},
   "outputs": [
    {
     "name": "stdout",
     "output_type": "stream",
     "text": [
      "(0, 'main', 'C:\\\\Users\\\\GbreH\\\\Desktop\\\\SQL-training\\\\Data_Science_Foundation\\\\tysql.sqlite')\n"
     ]
    }
   ],
   "source": [
    "import sqlite3\n",
    "\n",
    "# Create a SQL connection to our SQLite database\n",
    "con = sqlite3.connect(\"tysql.sqlite\")\n",
    "\n",
    "cur = con.cursor()\n",
    "\n",
    "# The result of a \"cursor.execute\" can be iterated over by row\n",
    "for row in cur.execute('PRAGMA database_list;'): # https://stackoverflow.com/questions/59709946/sqlite3-operationalerror-near-show-syntax-error\n",
    "    print(row)\n",
    "\n",
    "# Be sure to close the connection\n",
    "con.close()"
   ]
  },
  {
   "cell_type": "markdown",
   "metadata": {},
   "source": [
    "2. Виведіть перелік всіх таблиць."
   ]
  },
  {
   "cell_type": "code",
   "execution_count": null,
   "metadata": {},
   "outputs": [],
   "source": []
  },
  {
   "cell_type": "markdown",
   "metadata": {},
   "source": [
    "3. Список всіх cust_id з таблиці Customers table."
   ]
  },
  {
   "cell_type": "code",
   "execution_count": null,
   "metadata": {},
   "outputs": [],
   "source": []
  },
  {
   "cell_type": "markdown",
   "metadata": {},
   "source": [
    "4. Всю таблицю Customers table"
   ]
  },
  {
   "cell_type": "code",
   "execution_count": null,
   "metadata": {},
   "outputs": [],
   "source": []
  },
  {
   "cell_type": "markdown",
   "metadata": {},
   "source": [
    "5. Список клієнтів (cust_names) відсортованих від Z до A"
   ]
  },
  {
   "cell_type": "code",
   "execution_count": null,
   "metadata": {},
   "outputs": [],
   "source": []
  },
  {
   "cell_type": "markdown",
   "metadata": {},
   "source": [
    "6. Таблицю клієнтів та замовлень (cust_id і order_num) . Відсортуйте по клієнту і потім по даті замовлення"
   ]
  },
  {
   "cell_type": "code",
   "execution_count": null,
   "metadata": {},
   "outputs": [],
   "source": []
  },
  {
   "cell_type": "markdown",
   "metadata": {},
   "source": [
    "7. Таблицю (на основі Items) з кількість та вартістю товару. Відсортуйте в порядку спадання по кількості та вартості"
   ]
  },
  {
   "cell_type": "code",
   "execution_count": null,
   "metadata": {},
   "outputs": [],
   "source": []
  },
  {
   "cell_type": "markdown",
   "metadata": {},
   "source": [
    "8. Товар (з таблиці Products), ціна якого становить 9.49"
   ]
  },
  {
   "cell_type": "code",
   "execution_count": null,
   "metadata": {},
   "outputs": [],
   "source": []
  },
  {
   "cell_type": "markdown",
   "metadata": {},
   "source": [
    "9. Виведіть назву товару та ціну, яка лежить в діапазоні від  3 до 6. Відсортуйте результат в по ціні в порядку зростання"
   ]
  },
  {
   "cell_type": "code",
   "execution_count": null,
   "metadata": {},
   "outputs": [],
   "source": []
  },
  {
   "cell_type": "markdown",
   "metadata": {},
   "source": [
    "10. Кількість товару, що було продано"
   ]
  },
  {
   "cell_type": "code",
   "execution_count": null,
   "metadata": {},
   "outputs": [],
   "source": []
  },
  {
   "cell_type": "markdown",
   "metadata": {},
   "source": [
    "11. Кількість найменувань товару, ціна якого більша за 4"
   ]
  },
  {
   "cell_type": "code",
   "execution_count": null,
   "metadata": {},
   "outputs": [],
   "source": []
  },
  {
   "cell_type": "markdown",
   "metadata": {},
   "source": [
    "12. Розробіть алгоритм для виведення 3 найдорожчих товарів в базі"
   ]
  },
  {
   "cell_type": "code",
   "execution_count": null,
   "metadata": {},
   "outputs": [],
   "source": []
  },
  {
   "cell_type": "markdown",
   "metadata": {},
   "source": [
    "13. Підрахуйте кількість замовлень для кожного клієнта використовуючи підзапити"
   ]
  },
  {
   "cell_type": "code",
   "execution_count": null,
   "metadata": {},
   "outputs": [],
   "source": []
  },
  {
   "cell_type": "markdown",
   "metadata": {},
   "source": [
    "14. Виведіть список клієнтів та їх замовлення (використайте JOIN)"
   ]
  },
  {
   "cell_type": "code",
   "execution_count": null,
   "metadata": {},
   "outputs": [],
   "source": []
  },
  {
   "cell_type": "markdown",
   "metadata": {},
   "source": [
    "15. Зробіть два запити: список товарів, ціна яких менша 5 та список товарів, ціна який більша рівна 5. Використайте UNION для об'єднання цих запитів"
   ]
  },
  {
   "cell_type": "code",
   "execution_count": null,
   "metadata": {},
   "outputs": [],
   "source": []
  },
  {
   "cell_type": "markdown",
   "metadata": {},
   "source": [
    "### Завдання 4: "
   ]
  },
  {
   "cell_type": "markdown",
   "metadata": {},
   "source": [
    "Зареєструйтеся на сайті  http://www.sql-ex.ru/\n",
    "\n",
    "Виконайте завдання із блоку SELECT; з 1 по 30 завдання\n",
    "\n",
    "Код запитів вставляйте сюди\n"
   ]
  },
  {
   "cell_type": "code",
   "execution_count": null,
   "metadata": {},
   "outputs": [],
   "source": []
  }
 ],
 "metadata": {
  "kernelspec": {
   "display_name": "Python 3 (ipykernel)",
   "language": "python",
   "name": "python3"
  },
  "language_info": {
   "codemirror_mode": {
    "name": "ipython",
    "version": 3
   },
   "file_extension": ".py",
   "mimetype": "text/x-python",
   "name": "python",
   "nbconvert_exporter": "python",
   "pygments_lexer": "ipython3",
   "version": "3.10.5"
  }
 },
 "nbformat": 4,
 "nbformat_minor": 2
}
