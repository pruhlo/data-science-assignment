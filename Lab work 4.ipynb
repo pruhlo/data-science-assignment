{
 "cells": [
  {
   "cell_type": "markdown",
   "metadata": {},
   "source": [
    "___\n",
    "\n",
    "<a href='https://mainacademy.ua/'> <img src='https://mainacademy.ua/wp-content/uploads/2019/03/logo-main.png' alt = 'Хмм, щось з інтернетом'/></a>\n",
    "___\n",
    "\n",
    "# Module 4: Work with data professionally!"
   ]
  },
  {
   "cell_type": "markdown",
   "metadata": {},
   "source": [
    "## Lab work 4\n",
    "\n"
   ]
  },
  {
   "cell_type": "markdown",
   "metadata": {},
   "source": [
    "#### Мета: \n",
    "\n",
    "* навчитися обробляти дані\n",
    "* \"парсити\" сайти"
   ]
  },
  {
   "cell_type": "markdown",
   "metadata": {},
   "source": [
    "### Завдання 1:"
   ]
  },
  {
   "cell_type": "markdown",
   "metadata": {},
   "source": [
    "#### Ознайомитися із API Національного банку \n",
    "https://old.bank.gov.ua/control/uk/publish/article?art_id=38441973&cat_id=38459171#exchange\n",
    "\n"
   ]
  },
  {
   "cell_type": "markdown",
   "metadata": {},
   "source": [
    "1. Підключитися до API.\n"
   ]
  },
  {
   "cell_type": "code",
   "execution_count": 1,
   "metadata": {},
   "outputs": [
    {
     "name": "stdout",
     "output_type": "stream",
     "text": [
      "<Response [200]>\n"
     ]
    }
   ],
   "source": [
    "import requests\n",
    "\n",
    "url = 'https://bank.gov.ua/NBUStatService/v1/statdirectory/exchange?json'\n",
    "params = {'valcode' : 'EUR'} \n",
    "\n",
    "response = requests.get(url, params=params)\n",
    "print(response)"
   ]
  },
  {
   "cell_type": "markdown",
   "metadata": {},
   "source": [
    "2. Отримати курс євро за останній рік."
   ]
  },
  {
   "cell_type": "code",
   "execution_count": 2,
   "metadata": {},
   "outputs": [],
   "source": [
    "import datetime as DT\n",
    "import requests\n",
    "\n",
    "annual_exchange_rate_EURO = {} # ініціалізую словник для подобового значення курсу євро\n",
    "\n",
    "params = {'date' : '20221018', 'valcode' : 'EUR'} #задамо параметри згідно з документацією API\n",
    "url = 'https://bank.gov.ua/NBUStatService/v1/statdirectory/exchange?json' # задамо адресу ресурсу\n",
    "date = DT.datetime.now() # задамо сьогоднішню датау\n",
    "\n",
    "for day in range(366): # цикл з 365 днів\n",
    "    params['date'] = (date - DT.timedelta(days=day)).strftime('%Y%m%d') # зміна дати в параметрах запиту\n",
    "    try:\n",
    "        response = requests.get(url, params=params) # дані GET запиту\n",
    "        data = response.json()[0] # запис необхідних даних  у змінну\n",
    "        annual_exchange_rate_EURO[data['exchangedate']] = data['rate'] # заповнення словника\n",
    "        start_time += DT.timedelta(days=day) # перезадаємо наступну дату для запиту\n",
    "    except:\n",
    "        print('error')\n",
    "        break"
   ]
  },
  {
   "cell_type": "markdown",
   "metadata": {},
   "source": [
    "### Працює скрипт через раз, гадаю що проблеми на сервері, тому запишу отримані дані:"
   ]
  },
  {
   "cell_type": "code",
   "execution_count": 3,
   "metadata": {},
   "outputs": [],
   "source": [
    "# import pickle\n",
    "\n",
    "# with open('annual_exchange_rate_EURO.bin', 'bw') as f:\n",
    "#     pickle.dump(annual_exchange_rate_EURO, f)"
   ]
  },
  {
   "cell_type": "code",
   "execution_count": 4,
   "metadata": {},
   "outputs": [],
   "source": [
    "# зчитую отримані дані:\n",
    "from io import BytesIO\n",
    "from urllib.request import urlopen\n",
    "import pickle\n",
    "\n",
    "url = 'https://github.com/pruhlo/data-science-assignment/blob/master/assets/annual_exchange_rate_EURO.bin?raw=true'\n",
    "raw = BytesIO(urlopen(url).read())\n",
    "EURO = pickle.load(raw)"
   ]
  },
  {
   "cell_type": "markdown",
   "metadata": {},
   "source": [
    "3. Вивести середнє значення та відхилення курсу за кожний місяць."
   ]
  },
  {
   "cell_type": "code",
   "execution_count": 1,
   "metadata": {},
   "outputs": [],
   "source": [
    "import datetime as DT\n",
    "import numpy as np\n",
    "import pandas as pd"
   ]
  },
  {
   "cell_type": "code",
   "execution_count": 6,
   "metadata": {},
   "outputs": [
    {
     "name": "stdout",
     "output_type": "stream",
     "text": [
      "CPU times: total: 0 ns\n",
      "Wall time: 9.99 ms\n"
     ]
    }
   ],
   "source": [
    "%%time\n",
    "\n",
    "month_EURO ={} # ініціалізуємо словник з місячними значеннями курсу євро\n",
    "\n",
    "for key in EURO.keys():\n",
    "    month = DT.datetime.strptime(key, '%d.%m.%Y').strftime(\"%B\") # створимо ключ(місяць)\n",
    "    try:\n",
    "        month_EURO[month].append(float(EURO[key])) # якщо в словнику є даний список доповнимо його\n",
    "    except KeyError:\n",
    "        month_EURO[month] = [float(EURO[key])] # якщо в словнику не має списку створимо його\n",
    "        \n",
    "describe_month_EURO = {} # словник для \n",
    "\n",
    "for key in month_EURO.keys():\n",
    "    describe_month_EURO[key + ' mean'] = np.mean(month_EURO[key])\n",
    "    describe_month_EURO[key + ' std'] = np.std(month_EURO[key])"
   ]
  },
  {
   "cell_type": "code",
   "execution_count": 7,
   "metadata": {},
   "outputs": [
    {
     "name": "stdout",
     "output_type": "stream",
     "text": [
      "CPU times: total: 15.6 ms\n",
      "Wall time: 15 ms\n"
     ]
    }
   ],
   "source": [
    "%%time\n",
    "\n",
    "df = pd.DataFrame.from_dict({'date':EURO.keys(), 'EURO':EURO.values()})\n",
    "df.date = pd.to_datetime(df.date, format='%d.%m.%Y') # якщо не вказати формат можливо буде помилка при групуванні\n",
    "\n",
    "result = pd.DataFrame(columns=['mean', 'std'], index=list(range(1,13)))\n",
    "result['mean'] = df.groupby(df.date.dt.month)['EURO'].mean()\n",
    "result['std'] = df.groupby(df.date.dt.month)['EURO'].std()"
   ]
  },
  {
   "cell_type": "code",
   "execution_count": 83,
   "metadata": {},
   "outputs": [],
   "source": [
    "# result"
   ]
  },
  {
   "cell_type": "code",
   "execution_count": 8,
   "metadata": {},
   "outputs": [
    {
     "name": "stdout",
     "output_type": "stream",
     "text": [
      "CPU times: total: 797 ms\n",
      "Wall time: 823 ms\n"
     ]
    }
   ],
   "source": [
    "%%time\n",
    "\n",
    "# Ще спосіб групування за допомогою pandas та datetime\n",
    "DF = pd.DataFrame(columns=['data', 'month', 'EURO'])\n",
    "\n",
    "for key in EURO:\n",
    "    DF.loc[len(DF.index)] = [key, DT.datetime.strptime(key, '%d.%m.%Y').strftime(\"%B\"), EURO[key]]\n",
    "\n",
    "groupBy = DF.groupby('month').mean(numeric_only=True) # numeric_only=True >>> без вказування помилка\n",
    "groupBy['sdt'] = DF.groupby('month').std(numeric_only=True)"
   ]
  },
  {
   "cell_type": "markdown",
   "metadata": {},
   "source": [
    "4. Дану інформацію записати у файл за допомогою pickle."
   ]
  },
  {
   "cell_type": "code",
   "execution_count": 9,
   "metadata": {},
   "outputs": [],
   "source": [
    "import pickle\n",
    "\n",
    "with open('mydata_LW-4.bin', 'bw') as f:\n",
    "    pickle.dump(month_EURO, f)\n",
    "    pickle.dump(describe_month_EURO, f)\n",
    "    pickle.dump(df, f)\n",
    "    pickle.dump(result, f)\n",
    "    pickle.dump(DF, f)\n",
    "    pickle.dump(groupBy, f)"
   ]
  },
  {
   "cell_type": "code",
   "execution_count": 29,
   "metadata": {},
   "outputs": [],
   "source": [
    "# ПРОЧИТАТИ з репозиторію вказані дані\n",
    "# url = 'https://github.com/pruhlo/data-science-assignment/blob/master/assets/mydata_LW-4.bin?raw=true'\n",
    "# raw = BytesIO(urlopen(url).read())\n",
    "# month_EURO1 = pickle.load(raw)\n",
    "# describe_month_EURO1 = pickle.load(raw)\n",
    "# df1 = pickle.load(raw)\n",
    "# result1 = pickle.load(raw)\n",
    "# DF1 = pickle.load(raw)\n",
    "# groupBy1 = pickle.load(raw)"
   ]
  },
  {
   "cell_type": "markdown",
   "metadata": {},
   "source": [
    "### Завдання 2:"
   ]
  },
  {
   "cell_type": "markdown",
   "metadata": {},
   "source": [
    "Потрібно проаналізувати всі товари на сайті: \n",
    "https://smallpacking.agrosem.ua/shop/"
   ]
  },
  {
   "cell_type": "markdown",
   "metadata": {},
   "source": [
    "Створіть базу даних, що містить таблицю із такими стовбцями: \n",
    "    - артикул товару\n",
    "    - найменування\n",
    "    - ціна \n",
    "    - вага"
   ]
  },
  {
   "cell_type": "code",
   "execution_count": 16,
   "metadata": {},
   "outputs": [
    {
     "data": {
      "text/html": [
       "<div>\n",
       "<style scoped>\n",
       "    .dataframe tbody tr th:only-of-type {\n",
       "        vertical-align: middle;\n",
       "    }\n",
       "\n",
       "    .dataframe tbody tr th {\n",
       "        vertical-align: top;\n",
       "    }\n",
       "\n",
       "    .dataframe thead th {\n",
       "        text-align: right;\n",
       "    }\n",
       "</style>\n",
       "<table border=\"1\" class=\"dataframe\">\n",
       "  <thead>\n",
       "    <tr style=\"text-align: right;\">\n",
       "      <th></th>\n",
       "      <th>id</th>\n",
       "      <th>name</th>\n",
       "      <th>weight</th>\n",
       "      <th>price</th>\n",
       "    </tr>\n",
       "  </thead>\n",
       "  <tbody>\n",
       "    <tr>\n",
       "      <th>0</th>\n",
       "      <td>1604</td>\n",
       "      <td>ДОБРИВО ДЛЯ ОРХІДЕЙ</td>\n",
       "      <td>180 г</td>\n",
       "      <td>119.00</td>\n",
       "    </tr>\n",
       "    <tr>\n",
       "      <th>1</th>\n",
       "      <td>1609</td>\n",
       "      <td>ДОБРИВО ДЛЯ ТРОЯНД ТА КВІТУЧИХ РОСЛИН</td>\n",
       "      <td>180 г</td>\n",
       "      <td>119.00</td>\n",
       "    </tr>\n",
       "    <tr>\n",
       "      <th>2</th>\n",
       "      <td>1600</td>\n",
       "      <td>ДОБРИВО ДЛЯ КВІТУЧИХ КІМНАТНИХ РОСЛИН</td>\n",
       "      <td>180 г</td>\n",
       "      <td>119.00</td>\n",
       "    </tr>\n",
       "    <tr>\n",
       "      <th>3</th>\n",
       "      <td>1599</td>\n",
       "      <td>ДОБРИВО ДЛЯ ДЕКОРАТИВНО-ЛИСТЯНИХ КІМНАТНИХ РОСЛИН</td>\n",
       "      <td>180 г</td>\n",
       "      <td>119.00</td>\n",
       "    </tr>\n",
       "    <tr>\n",
       "      <th>4</th>\n",
       "      <td>1522</td>\n",
       "      <td>ДОБРИВО ДЛЯ ДЕКОРАТИВНИХ ЛИСТОВИХ</td>\n",
       "      <td>3 кг</td>\n",
       "      <td>499.00</td>\n",
       "    </tr>\n",
       "    <tr>\n",
       "      <th>...</th>\n",
       "      <td>...</td>\n",
       "      <td>...</td>\n",
       "      <td>...</td>\n",
       "      <td>...</td>\n",
       "    </tr>\n",
       "    <tr>\n",
       "      <th>1039</th>\n",
       "      <td>1600</td>\n",
       "      <td>ДОБРИВО ДЛЯ КВІТУЧИХ КІМНАТНИХ РОСЛИН</td>\n",
       "      <td>180 г</td>\n",
       "      <td>119.00</td>\n",
       "    </tr>\n",
       "    <tr>\n",
       "      <th>1040</th>\n",
       "      <td>1599</td>\n",
       "      <td>ДОБРИВО ДЛЯ ДЕКОРАТИВНО-ЛИСТЯНИХ КІМНАТНИХ РОСЛИН</td>\n",
       "      <td>180 г</td>\n",
       "      <td>119.00</td>\n",
       "    </tr>\n",
       "    <tr>\n",
       "      <th>1041</th>\n",
       "      <td>1608</td>\n",
       "      <td>ДОБРИВО ДЛЯ САМШИТУ ТА ВІЧНОЗЕЛЕНИХ ЧАГАРНИКІВ</td>\n",
       "      <td>180 г</td>\n",
       "      <td>119.00</td>\n",
       "    </tr>\n",
       "    <tr>\n",
       "      <th>1042</th>\n",
       "      <td>1610</td>\n",
       "      <td>ДОБРИВО ДЛЯ ХВОЙНИХ РОСЛИН</td>\n",
       "      <td>180 г</td>\n",
       "      <td>129.00</td>\n",
       "    </tr>\n",
       "    <tr>\n",
       "      <th>1043</th>\n",
       "      <td>1582</td>\n",
       "      <td>ДОБРИВО НА ОСНОВІ ВИТЯЖКИ МОРСЬКИХ ВОДОРОСТЕЙ ...</td>\n",
       "      <td>0.5 л</td>\n",
       "      <td>299.00</td>\n",
       "    </tr>\n",
       "  </tbody>\n",
       "</table>\n",
       "<p>1044 rows × 4 columns</p>\n",
       "</div>"
      ],
      "text/plain": [
       "        id                                               name weight   price\n",
       "0     1604                                ДОБРИВО ДЛЯ ОРХІДЕЙ  180 г  119.00\n",
       "1     1609              ДОБРИВО ДЛЯ ТРОЯНД ТА КВІТУЧИХ РОСЛИН  180 г  119.00\n",
       "2     1600              ДОБРИВО ДЛЯ КВІТУЧИХ КІМНАТНИХ РОСЛИН  180 г  119.00\n",
       "3     1599  ДОБРИВО ДЛЯ ДЕКОРАТИВНО-ЛИСТЯНИХ КІМНАТНИХ РОСЛИН  180 г  119.00\n",
       "4     1522                  ДОБРИВО ДЛЯ ДЕКОРАТИВНИХ ЛИСТОВИХ   3 кг  499.00\n",
       "...    ...                                                ...    ...     ...\n",
       "1039  1600              ДОБРИВО ДЛЯ КВІТУЧИХ КІМНАТНИХ РОСЛИН  180 г  119.00\n",
       "1040  1599  ДОБРИВО ДЛЯ ДЕКОРАТИВНО-ЛИСТЯНИХ КІМНАТНИХ РОСЛИН  180 г  119.00\n",
       "1041  1608     ДОБРИВО ДЛЯ САМШИТУ ТА ВІЧНОЗЕЛЕНИХ ЧАГАРНИКІВ  180 г  119.00\n",
       "1042  1610                         ДОБРИВО ДЛЯ ХВОЙНИХ РОСЛИН  180 г  129.00\n",
       "1043  1582  ДОБРИВО НА ОСНОВІ ВИТЯЖКИ МОРСЬКИХ ВОДОРОСТЕЙ ...  0.5 л  299.00\n",
       "\n",
       "[1044 rows x 4 columns]"
      ]
     },
     "execution_count": 16,
     "metadata": {},
     "output_type": "execute_result"
    }
   ],
   "source": [
    "import requests\n",
    "import pandas as pd\n",
    "from bs4 import BeautifulSoup\n",
    "\n",
    "def make_req(url, page):\n",
    "    \n",
    "    ''' Query with nuber of page into web store\n",
    "    HEADERS see: https://raw.githubusercontent.com/Lidkins/DS/915bdbd30ca3b0dd2fc507db94b41ee62cbcebf3/Lab%20work%204.ipynb'''\n",
    "#     HEADERS = {\n",
    "#              'User-Agent': 'Mozilla/5.0 (Windows NT 6.1; WOW64; rv:49.0) Gecko/20100101 Firefox/49.0',\n",
    "#              'Accept': 'text/html,application/xhtml+xml,application/xml;q=0.9,*/*;q=0.8',\n",
    "#              'Accept-Language': 'ua-UA,en;q=0.5',\n",
    "#              'Accept-Encoding': 'gzip, deflate',\n",
    "#              'DNT': '1',\n",
    "#              'Connection': 'keep-alive',\n",
    "#              'Upgrade-Insecure-Requests': '1',\n",
    "#              'page':f'{page}'\n",
    "    HEADERS = {\n",
    "    'Accept': 'text/html,application/xhtml+xml,application/xml;q=0.9,image/avif,image/webp,image/apng,*/*;q=0.8,application/signed-exchange;v=b3;q=0.9',\n",
    "    'User-Agent': 'Mozilla/5.0 (Windows NT 10.0; Win64; x64) AppleWebKit/537.36 (KHTML, like Gecko) Chrome/102.0.5005.63 Safari/537.36',\n",
    "    }\n",
    "#     headers = {\n",
    "#         'User-Agent': 'Mozilla/5.0',\n",
    "#         'page':f'{page}'}\n",
    "    resp = requests.get(url, headers=HEADERS, params = {'page': f'{page}'})\n",
    "    return resp\n",
    "\n",
    "def get_data(df):\n",
    "    base_select_tags = 'div.item' # базовий тег для отримання даних\n",
    "    for page in range(1,30):\n",
    "        url = 'https://smallpacking.agrosem.ua/' # URLs сторінок з данними\n",
    "        response = make_req(url, page) # результат запиту\n",
    "        soup = BeautifulSoup(response.text, 'html.parser') # об'єкт супу\n",
    "        list_tags = [i.get('content') for i in soup.select(f'{base_select_tags}')] # витягаємо контент\n",
    "        for _ in list_tags:\n",
    "            dicty = eval(_) # отримуємо словник\n",
    "            df.loc[len(df.index)] = dicty # додаємо рядок до датафрейму\n",
    "    return df\n",
    "\n",
    "df = pd.DataFrame(columns=['id', 'name', 'weight', 'price'])\n",
    "\n",
    "df = get_data(df)\n",
    "df"
   ]
  },
  {
   "cell_type": "code",
   "execution_count": 18,
   "metadata": {},
   "outputs": [
    {
     "data": {
      "text/plain": [
       "26"
      ]
     },
     "execution_count": 18,
     "metadata": {},
     "output_type": "execute_result"
    }
   ],
   "source": [
    "df.id.nunique()"
   ]
  },
  {
   "cell_type": "markdown",
   "metadata": {},
   "source": [
    "### Завдання 3: "
   ]
  },
  {
   "cell_type": "markdown",
   "metadata": {},
   "source": [
    "Ознайомтеся із роботою SQLite та відповідним модулем у Python.\n",
    "Завантажте базу даних для виконання лабораторної роботи.\n",
    "Підключіться до завантаженої бази SQLite."
   ]
  },
  {
   "cell_type": "markdown",
   "metadata": {},
   "source": [
    "1. Виведіть інформацію про дану базу."
   ]
  },
  {
   "cell_type": "code",
   "execution_count": 74,
   "metadata": {},
   "outputs": [
    {
     "name": "stdout",
     "output_type": "stream",
     "text": [
      "Downloading..\n",
      "Complete!\n"
     ]
    },
    {
     "data": {
      "text/html": [
       "<table border=\"1\" class=\"dataframe\">\n",
       "  <thead>\n",
       "    <tr style=\"text-align: right;\">\n",
       "      <th></th>\n",
       "      <th>seq</th>\n",
       "      <th>name</th>\n",
       "      <th>file</th>\n",
       "    </tr>\n",
       "  </thead>\n",
       "  <tbody>\n",
       "    <tr>\n",
       "      <th>0</th>\n",
       "      <td>0</td>\n",
       "      <td>main</td>\n",
       "      <td></td>\n",
       "    </tr>\n",
       "  </tbody>\n",
       "</table>"
      ],
      "text/plain": [
       "<IPython.core.display.HTML object>"
      ]
     },
     "metadata": {},
     "output_type": "display_data"
    }
   ],
   "source": [
    "# Спробую працювати з БД завантаженої до github\n",
    "from io import BytesIO as Memory\n",
    "import requests\n",
    "import sqlite3\n",
    "import pandas as pd\n",
    "from IPython.display import display, HTML\n",
    "\n",
    "def download_file_to_obj(url, file_obj):\n",
    "    \"\"\"\n",
    "    See: https://stackoverflow.com/questions/69522022/open-sqlite-database-from-http-in-memory\n",
    "    \"\"\"\n",
    "    with requests.get(url, stream=True) as r:\n",
    "        r.raise_for_status()\n",
    "        for chunk in r.iter_content(chunk_size=None):\n",
    "            if chunk:\n",
    "                file_obj.write(chunk)\n",
    "\n",
    "def query(SQL_query):\n",
    "    source_url = 'https://github.com/pruhlo/data-science-assignment/blob/master/tysql.sqlite?raw=true'\n",
    "    db_in_mem = Memory()\n",
    "    print('Downloading..')\n",
    "    download_file_to_obj(source_url, db_in_mem)\n",
    "    print('Complete!')\n",
    "    try:\n",
    "        with sqlite3.connect(\":memory:\") as con:\n",
    "            df = pd.read_sql_query(f\"{SQL_query}\", con)\n",
    "            display(HTML(df.to_html()))\n",
    "    except Error as e:\n",
    "        print('Error query...')\n",
    "        print(e)\n",
    "\n",
    "query('PRAGMA database_list;') # https://stackoverflow.com/questions/59709946/sqlite3-operationalerror-near-show-syntax-error"
   ]
  },
  {
   "cell_type": "markdown",
   "metadata": {},
   "source": [
    "2. Виведіть перелік всіх таблиць."
   ]
  },
  {
   "cell_type": "code",
   "execution_count": 77,
   "metadata": {},
   "outputs": [
    {
     "name": "stdout",
     "output_type": "stream",
     "text": [
      "Downloading..\n",
      "Complete!\n"
     ]
    },
    {
     "data": {
      "text/html": [
       "<table border=\"1\" class=\"dataframe\">\n",
       "  <thead>\n",
       "    <tr style=\"text-align: right;\">\n",
       "      <th></th>\n",
       "      <th>schema</th>\n",
       "      <th>name</th>\n",
       "      <th>type</th>\n",
       "      <th>ncol</th>\n",
       "      <th>wr</th>\n",
       "      <th>strict</th>\n",
       "    </tr>\n",
       "  </thead>\n",
       "  <tbody>\n",
       "    <tr>\n",
       "      <th>0</th>\n",
       "      <td>main</td>\n",
       "      <td>sqlite_schema</td>\n",
       "      <td>table</td>\n",
       "      <td>5</td>\n",
       "      <td>0</td>\n",
       "      <td>0</td>\n",
       "    </tr>\n",
       "    <tr>\n",
       "      <th>1</th>\n",
       "      <td>temp</td>\n",
       "      <td>sqlite_temp_schema</td>\n",
       "      <td>table</td>\n",
       "      <td>5</td>\n",
       "      <td>0</td>\n",
       "      <td>0</td>\n",
       "    </tr>\n",
       "  </tbody>\n",
       "</table>"
      ],
      "text/plain": [
       "<IPython.core.display.HTML object>"
      ]
     },
     "metadata": {},
     "output_type": "display_data"
    }
   ],
   "source": [
    "query(\"PRAGMA table_list;\") "
   ]
  },
  {
   "cell_type": "code",
   "execution_count": 104,
   "metadata": {},
   "outputs": [
    {
     "data": {
      "text/html": [
       "<table border=\"1\" class=\"dataframe\">\n",
       "  <thead>\n",
       "    <tr style=\"text-align: right;\">\n",
       "      <th></th>\n",
       "      <th>schema</th>\n",
       "      <th>name</th>\n",
       "      <th>type</th>\n",
       "      <th>ncol</th>\n",
       "      <th>wr</th>\n",
       "      <th>strict</th>\n",
       "    </tr>\n",
       "  </thead>\n",
       "  <tbody>\n",
       "    <tr>\n",
       "      <th>0</th>\n",
       "      <td>main</td>\n",
       "      <td>Vendors</td>\n",
       "      <td>table</td>\n",
       "      <td>7</td>\n",
       "      <td>0</td>\n",
       "      <td>0</td>\n",
       "    </tr>\n",
       "    <tr>\n",
       "      <th>1</th>\n",
       "      <td>main</td>\n",
       "      <td>Products</td>\n",
       "      <td>table</td>\n",
       "      <td>5</td>\n",
       "      <td>0</td>\n",
       "      <td>0</td>\n",
       "    </tr>\n",
       "    <tr>\n",
       "      <th>2</th>\n",
       "      <td>main</td>\n",
       "      <td>Orders</td>\n",
       "      <td>table</td>\n",
       "      <td>3</td>\n",
       "      <td>0</td>\n",
       "      <td>0</td>\n",
       "    </tr>\n",
       "    <tr>\n",
       "      <th>3</th>\n",
       "      <td>main</td>\n",
       "      <td>OrderItems</td>\n",
       "      <td>table</td>\n",
       "      <td>5</td>\n",
       "      <td>0</td>\n",
       "      <td>0</td>\n",
       "    </tr>\n",
       "    <tr>\n",
       "      <th>4</th>\n",
       "      <td>main</td>\n",
       "      <td>Customers</td>\n",
       "      <td>table</td>\n",
       "      <td>9</td>\n",
       "      <td>0</td>\n",
       "      <td>0</td>\n",
       "    </tr>\n",
       "    <tr>\n",
       "      <th>5</th>\n",
       "      <td>main</td>\n",
       "      <td>sqlite_schema</td>\n",
       "      <td>table</td>\n",
       "      <td>5</td>\n",
       "      <td>0</td>\n",
       "      <td>0</td>\n",
       "    </tr>\n",
       "    <tr>\n",
       "      <th>6</th>\n",
       "      <td>temp</td>\n",
       "      <td>sqlite_temp_schema</td>\n",
       "      <td>table</td>\n",
       "      <td>5</td>\n",
       "      <td>0</td>\n",
       "      <td>0</td>\n",
       "    </tr>\n",
       "  </tbody>\n",
       "</table>"
      ],
      "text/plain": [
       "<IPython.core.display.HTML object>"
      ]
     },
     "metadata": {},
     "output_type": "display_data"
    }
   ],
   "source": [
    "# Всіх таблиць не видно, буду працювати з БД з диску\n",
    "def query(SQL_query):\n",
    "    try:\n",
    "        with sqlite3.connect(\"tysql.sqlite\") as con:\n",
    "            df = pd.read_sql_query(f\"{SQL_query}\", con)\n",
    "            display(HTML(df.to_html()))\n",
    "    except Error as e:\n",
    "        print(e)\n",
    "\n",
    "query(\"PRAGMA table_list;\")"
   ]
  },
  {
   "cell_type": "markdown",
   "metadata": {},
   "source": [
    "3. Список всіх cust_id з таблиці Customers table."
   ]
  },
  {
   "cell_type": "code",
   "execution_count": 81,
   "metadata": {},
   "outputs": [
    {
     "data": {
      "text/html": [
       "<table border=\"1\" class=\"dataframe\">\n",
       "  <thead>\n",
       "    <tr style=\"text-align: right;\">\n",
       "      <th></th>\n",
       "      <th>cust_id</th>\n",
       "    </tr>\n",
       "  </thead>\n",
       "  <tbody>\n",
       "    <tr>\n",
       "      <th>0</th>\n",
       "      <td>1000000001</td>\n",
       "    </tr>\n",
       "    <tr>\n",
       "      <th>1</th>\n",
       "      <td>1000000002</td>\n",
       "    </tr>\n",
       "    <tr>\n",
       "      <th>2</th>\n",
       "      <td>1000000003</td>\n",
       "    </tr>\n",
       "    <tr>\n",
       "      <th>3</th>\n",
       "      <td>1000000004</td>\n",
       "    </tr>\n",
       "    <tr>\n",
       "      <th>4</th>\n",
       "      <td>1000000005</td>\n",
       "    </tr>\n",
       "  </tbody>\n",
       "</table>"
      ],
      "text/plain": [
       "<IPython.core.display.HTML object>"
      ]
     },
     "metadata": {},
     "output_type": "display_data"
    }
   ],
   "source": [
    "query('SELECT cust_id FROM Customers')"
   ]
  },
  {
   "cell_type": "markdown",
   "metadata": {},
   "source": [
    "4. Всю таблицю Customers table"
   ]
  },
  {
   "cell_type": "code",
   "execution_count": 82,
   "metadata": {},
   "outputs": [
    {
     "data": {
      "text/html": [
       "<table border=\"1\" class=\"dataframe\">\n",
       "  <thead>\n",
       "    <tr style=\"text-align: right;\">\n",
       "      <th></th>\n",
       "      <th>cust_id</th>\n",
       "      <th>cust_name</th>\n",
       "      <th>cust_address</th>\n",
       "      <th>cust_city</th>\n",
       "      <th>cust_state</th>\n",
       "      <th>cust_zip</th>\n",
       "      <th>cust_country</th>\n",
       "      <th>cust_contact</th>\n",
       "      <th>cust_email</th>\n",
       "    </tr>\n",
       "  </thead>\n",
       "  <tbody>\n",
       "    <tr>\n",
       "      <th>0</th>\n",
       "      <td>1000000001</td>\n",
       "      <td>Village Toys</td>\n",
       "      <td>200 Maple Lane</td>\n",
       "      <td>Detroit</td>\n",
       "      <td>MI</td>\n",
       "      <td>44444</td>\n",
       "      <td>USA</td>\n",
       "      <td>John Smith</td>\n",
       "      <td>sales@villagetoys.com</td>\n",
       "    </tr>\n",
       "    <tr>\n",
       "      <th>1</th>\n",
       "      <td>1000000002</td>\n",
       "      <td>Kids Place</td>\n",
       "      <td>333 South Lake Drive</td>\n",
       "      <td>Columbus</td>\n",
       "      <td>OH</td>\n",
       "      <td>43333</td>\n",
       "      <td>USA</td>\n",
       "      <td>Michelle Green</td>\n",
       "      <td>None</td>\n",
       "    </tr>\n",
       "    <tr>\n",
       "      <th>2</th>\n",
       "      <td>1000000003</td>\n",
       "      <td>Fun4All</td>\n",
       "      <td>1 Sunny Place</td>\n",
       "      <td>Muncie</td>\n",
       "      <td>IN</td>\n",
       "      <td>42222</td>\n",
       "      <td>USA</td>\n",
       "      <td>Jim Jones</td>\n",
       "      <td>jjones@fun4all.com</td>\n",
       "    </tr>\n",
       "    <tr>\n",
       "      <th>3</th>\n",
       "      <td>1000000004</td>\n",
       "      <td>Fun4All</td>\n",
       "      <td>829 Riverside Drive</td>\n",
       "      <td>Phoenix</td>\n",
       "      <td>AZ</td>\n",
       "      <td>88888</td>\n",
       "      <td>USA</td>\n",
       "      <td>Denise L. Stephens</td>\n",
       "      <td>dstephens@fun4all.com</td>\n",
       "    </tr>\n",
       "    <tr>\n",
       "      <th>4</th>\n",
       "      <td>1000000005</td>\n",
       "      <td>The Toy Store</td>\n",
       "      <td>4545 53rd Street</td>\n",
       "      <td>Chicago</td>\n",
       "      <td>IL</td>\n",
       "      <td>54545</td>\n",
       "      <td>USA</td>\n",
       "      <td>Kim Howard</td>\n",
       "      <td>None</td>\n",
       "    </tr>\n",
       "  </tbody>\n",
       "</table>"
      ],
      "text/plain": [
       "<IPython.core.display.HTML object>"
      ]
     },
     "metadata": {},
     "output_type": "display_data"
    }
   ],
   "source": [
    "query('SELECT * FROM Customers;')"
   ]
  },
  {
   "cell_type": "markdown",
   "metadata": {},
   "source": [
    "5. Список клієнтів (cust_names) відсортованих від Z до A"
   ]
  },
  {
   "cell_type": "code",
   "execution_count": 83,
   "metadata": {},
   "outputs": [
    {
     "data": {
      "text/html": [
       "<table border=\"1\" class=\"dataframe\">\n",
       "  <thead>\n",
       "    <tr style=\"text-align: right;\">\n",
       "      <th></th>\n",
       "      <th>cust_id</th>\n",
       "      <th>cust_name</th>\n",
       "      <th>cust_address</th>\n",
       "      <th>cust_city</th>\n",
       "      <th>cust_state</th>\n",
       "      <th>cust_zip</th>\n",
       "      <th>cust_country</th>\n",
       "      <th>cust_contact</th>\n",
       "      <th>cust_email</th>\n",
       "    </tr>\n",
       "  </thead>\n",
       "  <tbody>\n",
       "    <tr>\n",
       "      <th>0</th>\n",
       "      <td>1000000001</td>\n",
       "      <td>Village Toys</td>\n",
       "      <td>200 Maple Lane</td>\n",
       "      <td>Detroit</td>\n",
       "      <td>MI</td>\n",
       "      <td>44444</td>\n",
       "      <td>USA</td>\n",
       "      <td>John Smith</td>\n",
       "      <td>sales@villagetoys.com</td>\n",
       "    </tr>\n",
       "    <tr>\n",
       "      <th>1</th>\n",
       "      <td>1000000005</td>\n",
       "      <td>The Toy Store</td>\n",
       "      <td>4545 53rd Street</td>\n",
       "      <td>Chicago</td>\n",
       "      <td>IL</td>\n",
       "      <td>54545</td>\n",
       "      <td>USA</td>\n",
       "      <td>Kim Howard</td>\n",
       "      <td>None</td>\n",
       "    </tr>\n",
       "    <tr>\n",
       "      <th>2</th>\n",
       "      <td>1000000002</td>\n",
       "      <td>Kids Place</td>\n",
       "      <td>333 South Lake Drive</td>\n",
       "      <td>Columbus</td>\n",
       "      <td>OH</td>\n",
       "      <td>43333</td>\n",
       "      <td>USA</td>\n",
       "      <td>Michelle Green</td>\n",
       "      <td>None</td>\n",
       "    </tr>\n",
       "    <tr>\n",
       "      <th>3</th>\n",
       "      <td>1000000003</td>\n",
       "      <td>Fun4All</td>\n",
       "      <td>1 Sunny Place</td>\n",
       "      <td>Muncie</td>\n",
       "      <td>IN</td>\n",
       "      <td>42222</td>\n",
       "      <td>USA</td>\n",
       "      <td>Jim Jones</td>\n",
       "      <td>jjones@fun4all.com</td>\n",
       "    </tr>\n",
       "    <tr>\n",
       "      <th>4</th>\n",
       "      <td>1000000004</td>\n",
       "      <td>Fun4All</td>\n",
       "      <td>829 Riverside Drive</td>\n",
       "      <td>Phoenix</td>\n",
       "      <td>AZ</td>\n",
       "      <td>88888</td>\n",
       "      <td>USA</td>\n",
       "      <td>Denise L. Stephens</td>\n",
       "      <td>dstephens@fun4all.com</td>\n",
       "    </tr>\n",
       "  </tbody>\n",
       "</table>"
      ],
      "text/plain": [
       "<IPython.core.display.HTML object>"
      ]
     },
     "metadata": {},
     "output_type": "display_data"
    }
   ],
   "source": [
    "query('SELECT * FROM Customers ORDER BY cust_name DESC')"
   ]
  },
  {
   "cell_type": "markdown",
   "metadata": {},
   "source": [
    "6. Таблицю клієнтів та замовлень (cust_id і order_num) . Відсортуйте по клієнту і потім по даті замовлення"
   ]
  },
  {
   "cell_type": "code",
   "execution_count": 84,
   "metadata": {},
   "outputs": [
    {
     "data": {
      "text/html": [
       "<table border=\"1\" class=\"dataframe\">\n",
       "  <thead>\n",
       "    <tr style=\"text-align: right;\">\n",
       "      <th></th>\n",
       "      <th>cust_id</th>\n",
       "      <th>order_num</th>\n",
       "    </tr>\n",
       "  </thead>\n",
       "  <tbody>\n",
       "    <tr>\n",
       "      <th>0</th>\n",
       "      <td>1000000001</td>\n",
       "      <td>20009</td>\n",
       "    </tr>\n",
       "    <tr>\n",
       "      <th>1</th>\n",
       "      <td>1000000001</td>\n",
       "      <td>20005</td>\n",
       "    </tr>\n",
       "    <tr>\n",
       "      <th>2</th>\n",
       "      <td>1000000003</td>\n",
       "      <td>20006</td>\n",
       "    </tr>\n",
       "    <tr>\n",
       "      <th>3</th>\n",
       "      <td>1000000004</td>\n",
       "      <td>20007</td>\n",
       "    </tr>\n",
       "    <tr>\n",
       "      <th>4</th>\n",
       "      <td>1000000005</td>\n",
       "      <td>20008</td>\n",
       "    </tr>\n",
       "  </tbody>\n",
       "</table>"
      ],
      "text/plain": [
       "<IPython.core.display.HTML object>"
      ]
     },
     "metadata": {},
     "output_type": "display_data"
    }
   ],
   "source": [
    "query('SELECT cust_id, order_num FROM Orders ORDER BY cust_id, order_date')"
   ]
  },
  {
   "cell_type": "markdown",
   "metadata": {},
   "source": [
    "7. Таблицю (на основі Items) з кількість та вартістю товару. Відсортуйте в порядку спадання по кількості та вартості"
   ]
  },
  {
   "cell_type": "code",
   "execution_count": 85,
   "metadata": {},
   "outputs": [
    {
     "data": {
      "text/html": [
       "<table border=\"1\" class=\"dataframe\">\n",
       "  <thead>\n",
       "    <tr style=\"text-align: right;\">\n",
       "      <th></th>\n",
       "      <th>order_num</th>\n",
       "      <th>order_item</th>\n",
       "      <th>prod_id</th>\n",
       "      <th>quantity</th>\n",
       "      <th>item_price</th>\n",
       "    </tr>\n",
       "  </thead>\n",
       "  <tbody>\n",
       "    <tr>\n",
       "      <th>0</th>\n",
       "      <td>20009</td>\n",
       "      <td>1</td>\n",
       "      <td>BNBG01</td>\n",
       "      <td>250</td>\n",
       "      <td>2.49</td>\n",
       "    </tr>\n",
       "    <tr>\n",
       "      <th>1</th>\n",
       "      <td>20009</td>\n",
       "      <td>2</td>\n",
       "      <td>BNBG02</td>\n",
       "      <td>250</td>\n",
       "      <td>2.49</td>\n",
       "    </tr>\n",
       "    <tr>\n",
       "      <th>2</th>\n",
       "      <td>20009</td>\n",
       "      <td>3</td>\n",
       "      <td>BNBG03</td>\n",
       "      <td>250</td>\n",
       "      <td>2.49</td>\n",
       "    </tr>\n",
       "    <tr>\n",
       "      <th>3</th>\n",
       "      <td>20005</td>\n",
       "      <td>2</td>\n",
       "      <td>BR03</td>\n",
       "      <td>100</td>\n",
       "      <td>10.99</td>\n",
       "    </tr>\n",
       "    <tr>\n",
       "      <th>4</th>\n",
       "      <td>20005</td>\n",
       "      <td>1</td>\n",
       "      <td>BR01</td>\n",
       "      <td>100</td>\n",
       "      <td>5.49</td>\n",
       "    </tr>\n",
       "    <tr>\n",
       "      <th>5</th>\n",
       "      <td>20007</td>\n",
       "      <td>2</td>\n",
       "      <td>BNBG01</td>\n",
       "      <td>100</td>\n",
       "      <td>2.99</td>\n",
       "    </tr>\n",
       "    <tr>\n",
       "      <th>6</th>\n",
       "      <td>20007</td>\n",
       "      <td>3</td>\n",
       "      <td>BNBG02</td>\n",
       "      <td>100</td>\n",
       "      <td>2.99</td>\n",
       "    </tr>\n",
       "    <tr>\n",
       "      <th>7</th>\n",
       "      <td>20007</td>\n",
       "      <td>4</td>\n",
       "      <td>BNBG03</td>\n",
       "      <td>100</td>\n",
       "      <td>2.99</td>\n",
       "    </tr>\n",
       "    <tr>\n",
       "      <th>8</th>\n",
       "      <td>20007</td>\n",
       "      <td>1</td>\n",
       "      <td>BR03</td>\n",
       "      <td>50</td>\n",
       "      <td>11.49</td>\n",
       "    </tr>\n",
       "    <tr>\n",
       "      <th>9</th>\n",
       "      <td>20007</td>\n",
       "      <td>5</td>\n",
       "      <td>RGAN01</td>\n",
       "      <td>50</td>\n",
       "      <td>4.49</td>\n",
       "    </tr>\n",
       "    <tr>\n",
       "      <th>10</th>\n",
       "      <td>20006</td>\n",
       "      <td>1</td>\n",
       "      <td>BR01</td>\n",
       "      <td>20</td>\n",
       "      <td>5.99</td>\n",
       "    </tr>\n",
       "    <tr>\n",
       "      <th>11</th>\n",
       "      <td>20006</td>\n",
       "      <td>3</td>\n",
       "      <td>BR03</td>\n",
       "      <td>10</td>\n",
       "      <td>11.99</td>\n",
       "    </tr>\n",
       "    <tr>\n",
       "      <th>12</th>\n",
       "      <td>20006</td>\n",
       "      <td>2</td>\n",
       "      <td>BR02</td>\n",
       "      <td>10</td>\n",
       "      <td>8.99</td>\n",
       "    </tr>\n",
       "    <tr>\n",
       "      <th>13</th>\n",
       "      <td>20008</td>\n",
       "      <td>3</td>\n",
       "      <td>BNBG01</td>\n",
       "      <td>10</td>\n",
       "      <td>3.49</td>\n",
       "    </tr>\n",
       "    <tr>\n",
       "      <th>14</th>\n",
       "      <td>20008</td>\n",
       "      <td>4</td>\n",
       "      <td>BNBG02</td>\n",
       "      <td>10</td>\n",
       "      <td>3.49</td>\n",
       "    </tr>\n",
       "    <tr>\n",
       "      <th>15</th>\n",
       "      <td>20008</td>\n",
       "      <td>5</td>\n",
       "      <td>BNBG03</td>\n",
       "      <td>10</td>\n",
       "      <td>3.49</td>\n",
       "    </tr>\n",
       "    <tr>\n",
       "      <th>16</th>\n",
       "      <td>20008</td>\n",
       "      <td>2</td>\n",
       "      <td>BR03</td>\n",
       "      <td>5</td>\n",
       "      <td>11.99</td>\n",
       "    </tr>\n",
       "    <tr>\n",
       "      <th>17</th>\n",
       "      <td>20008</td>\n",
       "      <td>1</td>\n",
       "      <td>RGAN01</td>\n",
       "      <td>5</td>\n",
       "      <td>4.99</td>\n",
       "    </tr>\n",
       "  </tbody>\n",
       "</table>"
      ],
      "text/plain": [
       "<IPython.core.display.HTML object>"
      ]
     },
     "metadata": {},
     "output_type": "display_data"
    }
   ],
   "source": [
    "query('SELECT * FROM OrderItems ORDER BY quantity DESC, item_price DESC')"
   ]
  },
  {
   "cell_type": "markdown",
   "metadata": {},
   "source": [
    "8. Товар (з таблиці Products), ціна якого становить 9.49"
   ]
  },
  {
   "cell_type": "code",
   "execution_count": 86,
   "metadata": {},
   "outputs": [
    {
     "data": {
      "text/html": [
       "<table border=\"1\" class=\"dataframe\">\n",
       "  <thead>\n",
       "    <tr style=\"text-align: right;\">\n",
       "      <th></th>\n",
       "      <th>prod_id</th>\n",
       "      <th>vend_id</th>\n",
       "      <th>prod_name</th>\n",
       "      <th>prod_price</th>\n",
       "      <th>prod_desc</th>\n",
       "    </tr>\n",
       "  </thead>\n",
       "  <tbody>\n",
       "    <tr>\n",
       "      <th>0</th>\n",
       "      <td>RYL01</td>\n",
       "      <td>FNG01</td>\n",
       "      <td>King doll</td>\n",
       "      <td>9.49</td>\n",
       "      <td>12 inch king doll with royal garments and crown</td>\n",
       "    </tr>\n",
       "    <tr>\n",
       "      <th>1</th>\n",
       "      <td>RYL02</td>\n",
       "      <td>FNG01</td>\n",
       "      <td>Queen doll</td>\n",
       "      <td>9.49</td>\n",
       "      <td>12 inch queen doll with royal garments and crown</td>\n",
       "    </tr>\n",
       "  </tbody>\n",
       "</table>"
      ],
      "text/plain": [
       "<IPython.core.display.HTML object>"
      ]
     },
     "metadata": {},
     "output_type": "display_data"
    }
   ],
   "source": [
    "query('SELECT * FROM Products WHERE prod_price = 9.49')"
   ]
  },
  {
   "cell_type": "markdown",
   "metadata": {},
   "source": [
    "9. Виведіть назву товару та ціну, яка лежить в діапазоні від  3 до 6. Відсортуйте результат в по ціні в порядку зростання"
   ]
  },
  {
   "cell_type": "code",
   "execution_count": 87,
   "metadata": {},
   "outputs": [
    {
     "data": {
      "text/html": [
       "<table border=\"1\" class=\"dataframe\">\n",
       "  <thead>\n",
       "    <tr style=\"text-align: right;\">\n",
       "      <th></th>\n",
       "      <th>prod_name</th>\n",
       "      <th>prod_price</th>\n",
       "    </tr>\n",
       "  </thead>\n",
       "  <tbody>\n",
       "    <tr>\n",
       "      <th>0</th>\n",
       "      <td>Fish bean bag toy</td>\n",
       "      <td>3.49</td>\n",
       "    </tr>\n",
       "    <tr>\n",
       "      <th>1</th>\n",
       "      <td>Bird bean bag toy</td>\n",
       "      <td>3.49</td>\n",
       "    </tr>\n",
       "    <tr>\n",
       "      <th>2</th>\n",
       "      <td>Rabbit bean bag toy</td>\n",
       "      <td>3.49</td>\n",
       "    </tr>\n",
       "    <tr>\n",
       "      <th>3</th>\n",
       "      <td>Raggedy Ann</td>\n",
       "      <td>4.99</td>\n",
       "    </tr>\n",
       "    <tr>\n",
       "      <th>4</th>\n",
       "      <td>8 inch teddy bear</td>\n",
       "      <td>5.99</td>\n",
       "    </tr>\n",
       "  </tbody>\n",
       "</table>"
      ],
      "text/plain": [
       "<IPython.core.display.HTML object>"
      ]
     },
     "metadata": {},
     "output_type": "display_data"
    }
   ],
   "source": [
    "query('''SELECT prod_name, prod_price \n",
    "FROM Products \n",
    "WHERE (prod_price >= 3) and (prod_price <= 6) \n",
    "ORDER BY prod_price''')"
   ]
  },
  {
   "cell_type": "markdown",
   "metadata": {},
   "source": [
    "10. Кількість товару, що було продано"
   ]
  },
  {
   "cell_type": "code",
   "execution_count": 88,
   "metadata": {},
   "outputs": [
    {
     "data": {
      "text/html": [
       "<table border=\"1\" class=\"dataframe\">\n",
       "  <thead>\n",
       "    <tr style=\"text-align: right;\">\n",
       "      <th></th>\n",
       "      <th>TOTAL_item</th>\n",
       "    </tr>\n",
       "  </thead>\n",
       "  <tbody>\n",
       "    <tr>\n",
       "      <th>0</th>\n",
       "      <td>1430</td>\n",
       "    </tr>\n",
       "  </tbody>\n",
       "</table>"
      ],
      "text/plain": [
       "<IPython.core.display.HTML object>"
      ]
     },
     "metadata": {},
     "output_type": "display_data"
    }
   ],
   "source": [
    "query('SELECT SUM(quantity) as TOTAL_item FROM OrderItems')"
   ]
  },
  {
   "cell_type": "markdown",
   "metadata": {},
   "source": [
    "11. Кількість найменувань товару, ціна якого більша за 4"
   ]
  },
  {
   "cell_type": "code",
   "execution_count": 89,
   "metadata": {},
   "outputs": [
    {
     "data": {
      "text/html": [
       "<table border=\"1\" class=\"dataframe\">\n",
       "  <thead>\n",
       "    <tr style=\"text-align: right;\">\n",
       "      <th></th>\n",
       "      <th>COUNT(prod_name)</th>\n",
       "    </tr>\n",
       "  </thead>\n",
       "  <tbody>\n",
       "    <tr>\n",
       "      <th>0</th>\n",
       "      <td>6</td>\n",
       "    </tr>\n",
       "  </tbody>\n",
       "</table>"
      ],
      "text/plain": [
       "<IPython.core.display.HTML object>"
      ]
     },
     "metadata": {},
     "output_type": "display_data"
    }
   ],
   "source": [
    "query('SELECT COUNT(prod_name) FROM Products WHERE prod_price >= 4')"
   ]
  },
  {
   "cell_type": "markdown",
   "metadata": {},
   "source": [
    "12. Розробіть алгоритм для виведення 3 найдорожчих товарів в базі"
   ]
  },
  {
   "cell_type": "code",
   "execution_count": 90,
   "metadata": {},
   "outputs": [
    {
     "data": {
      "text/html": [
       "<table border=\"1\" class=\"dataframe\">\n",
       "  <thead>\n",
       "    <tr style=\"text-align: right;\">\n",
       "      <th></th>\n",
       "      <th>prod_name</th>\n",
       "      <th>prod_price</th>\n",
       "    </tr>\n",
       "  </thead>\n",
       "  <tbody>\n",
       "    <tr>\n",
       "      <th>0</th>\n",
       "      <td>18 inch teddy bear</td>\n",
       "      <td>11.99</td>\n",
       "    </tr>\n",
       "    <tr>\n",
       "      <th>1</th>\n",
       "      <td>King doll</td>\n",
       "      <td>9.49</td>\n",
       "    </tr>\n",
       "    <tr>\n",
       "      <th>2</th>\n",
       "      <td>Queen doll</td>\n",
       "      <td>9.49</td>\n",
       "    </tr>\n",
       "  </tbody>\n",
       "</table>"
      ],
      "text/plain": [
       "<IPython.core.display.HTML object>"
      ]
     },
     "metadata": {},
     "output_type": "display_data"
    }
   ],
   "source": [
    "query('SELECT prod_name, prod_price FROM Products ORDER BY prod_price DESC LIMIT 3;')"
   ]
  },
  {
   "cell_type": "markdown",
   "metadata": {},
   "source": [
    "13. Підрахуйте кількість замовлень для кожного клієнта використовуючи підзапити"
   ]
  },
  {
   "cell_type": "code",
   "execution_count": 92,
   "metadata": {},
   "outputs": [
    {
     "data": {
      "text/html": [
       "<table border=\"1\" class=\"dataframe\">\n",
       "  <thead>\n",
       "    <tr style=\"text-align: right;\">\n",
       "      <th></th>\n",
       "      <th>cust_name</th>\n",
       "      <th>count(order_num)</th>\n",
       "    </tr>\n",
       "  </thead>\n",
       "  <tbody>\n",
       "    <tr>\n",
       "      <th>0</th>\n",
       "      <td>Fun4All</td>\n",
       "      <td>2</td>\n",
       "    </tr>\n",
       "    <tr>\n",
       "      <th>1</th>\n",
       "      <td>The Toy Store</td>\n",
       "      <td>1</td>\n",
       "    </tr>\n",
       "    <tr>\n",
       "      <th>2</th>\n",
       "      <td>Village Toys</td>\n",
       "      <td>2</td>\n",
       "    </tr>\n",
       "  </tbody>\n",
       "</table>"
      ],
      "text/plain": [
       "<IPython.core.display.HTML object>"
      ]
     },
     "metadata": {},
     "output_type": "display_data"
    }
   ],
   "source": [
    "query(\"\"\"SELECT cust_name, count(order_num)\n",
    "                FROM Orders\n",
    "                LEFT JOIN Customers ON Orders.cust_id == Customers.cust_id\n",
    "                GROUP BY cust_name\"\"\")"
   ]
  },
  {
   "cell_type": "markdown",
   "metadata": {},
   "source": [
    "14. Виведіть список клієнтів та їх замовлення (використайте JOIN)"
   ]
  },
  {
   "cell_type": "code",
   "execution_count": 91,
   "metadata": {},
   "outputs": [
    {
     "data": {
      "text/html": [
       "<table border=\"1\" class=\"dataframe\">\n",
       "  <thead>\n",
       "    <tr style=\"text-align: right;\">\n",
       "      <th></th>\n",
       "      <th>cust_name</th>\n",
       "      <th>order_num</th>\n",
       "    </tr>\n",
       "  </thead>\n",
       "  <tbody>\n",
       "    <tr>\n",
       "      <th>0</th>\n",
       "      <td>Fun4All</td>\n",
       "      <td>20006</td>\n",
       "    </tr>\n",
       "    <tr>\n",
       "      <th>1</th>\n",
       "      <td>Fun4All</td>\n",
       "      <td>20007</td>\n",
       "    </tr>\n",
       "    <tr>\n",
       "      <th>2</th>\n",
       "      <td>The Toy Store</td>\n",
       "      <td>20008</td>\n",
       "    </tr>\n",
       "    <tr>\n",
       "      <th>3</th>\n",
       "      <td>Village Toys</td>\n",
       "      <td>20005</td>\n",
       "    </tr>\n",
       "    <tr>\n",
       "      <th>4</th>\n",
       "      <td>Village Toys</td>\n",
       "      <td>20009</td>\n",
       "    </tr>\n",
       "  </tbody>\n",
       "</table>"
      ],
      "text/plain": [
       "<IPython.core.display.HTML object>"
      ]
     },
     "metadata": {},
     "output_type": "display_data"
    }
   ],
   "source": [
    "query(\"\"\"SELECT cust_name, order_num \n",
    "                FROM Customers JOIN Orders ON Customers.cust_id == Orders.cust_id\n",
    "                ORDER BY cust_name\"\"\")"
   ]
  },
  {
   "cell_type": "markdown",
   "metadata": {},
   "source": [
    "15. Зробіть два запити: список товарів, ціна яких менша 5 та список товарів, ціна який більша рівна 5. Використайте UNION для об'єднання цих запитів"
   ]
  },
  {
   "cell_type": "code",
   "execution_count": 105,
   "metadata": {},
   "outputs": [
    {
     "data": {
      "text/html": [
       "<table border=\"1\" class=\"dataframe\">\n",
       "  <thead>\n",
       "    <tr style=\"text-align: right;\">\n",
       "      <th></th>\n",
       "      <th>prod_price</th>\n",
       "      <th>prod_name</th>\n",
       "    </tr>\n",
       "  </thead>\n",
       "  <tbody>\n",
       "    <tr>\n",
       "      <th>0</th>\n",
       "      <td>3.49</td>\n",
       "      <td>Bird bean bag toy</td>\n",
       "    </tr>\n",
       "    <tr>\n",
       "      <th>1</th>\n",
       "      <td>3.49</td>\n",
       "      <td>Fish bean bag toy</td>\n",
       "    </tr>\n",
       "    <tr>\n",
       "      <th>2</th>\n",
       "      <td>3.49</td>\n",
       "      <td>Rabbit bean bag toy</td>\n",
       "    </tr>\n",
       "    <tr>\n",
       "      <th>3</th>\n",
       "      <td>4.99</td>\n",
       "      <td>Raggedy Ann</td>\n",
       "    </tr>\n",
       "    <tr>\n",
       "      <th>4</th>\n",
       "      <td>5.99</td>\n",
       "      <td>8 inch teddy bear</td>\n",
       "    </tr>\n",
       "    <tr>\n",
       "      <th>5</th>\n",
       "      <td>8.99</td>\n",
       "      <td>12 inch teddy bear</td>\n",
       "    </tr>\n",
       "    <tr>\n",
       "      <th>6</th>\n",
       "      <td>9.49</td>\n",
       "      <td>King doll</td>\n",
       "    </tr>\n",
       "    <tr>\n",
       "      <th>7</th>\n",
       "      <td>9.49</td>\n",
       "      <td>Queen doll</td>\n",
       "    </tr>\n",
       "    <tr>\n",
       "      <th>8</th>\n",
       "      <td>11.99</td>\n",
       "      <td>18 inch teddy bear</td>\n",
       "    </tr>\n",
       "  </tbody>\n",
       "</table>"
      ],
      "text/plain": [
       "<IPython.core.display.HTML object>"
      ]
     },
     "metadata": {},
     "output_type": "display_data"
    }
   ],
   "source": [
    "query(\"\"\"  SELECT prod_price, prod_name\n",
    "        FROM Products\n",
    "        WHERE prod_price < 5\n",
    "        \n",
    "        UNION \n",
    "        \n",
    "        SELECT prod_price, prod_name\n",
    "        FROM Products\n",
    "        WHERE prod_price >= 5\"\"\")"
   ]
  },
  {
   "cell_type": "markdown",
   "metadata": {},
   "source": [
    "### Завдання 4: "
   ]
  },
  {
   "cell_type": "markdown",
   "metadata": {},
   "source": [
    "Зареєструйтеся на сайті  http://www.sql-ex.ru/\n",
    "\n",
    "Виконайте завдання із блоку SELECT; з 1 по 30 завдання\n",
    "\n",
    "Код запитів вставляйте сюди\n"
   ]
  },
  {
   "cell_type": "markdown",
   "metadata": {},
   "source": [
    "##### 1 Знайдіть номер моделі, швидкість та розмір жорсткого диска для всіх ПК вартістю менше 500 дол. Вивести: model, speed та hd\n",
    "```MySQL\n",
    "SELECT model, speed, hd\n",
    "FROM PC\n",
    "WHERE price < 500\n",
    "```\n",
    "\n",
    "##### 2 Знайдіть виробників принтерів. Вивести: maker\n",
    "```MySQL\n",
    "SELECT DISTINCT maker\n",
    "FROM Product\n",
    "WHERE type='Printer'\n",
    "```\n",
    "\n",
    "##### 3 Знайдіть номер моделі, обсяг пам'яті та розміри екранів ПК-блокнотів, ціна яких перевищує 1000 дол.\n",
    "```MySQL\n",
    "SELECT model, ram, screen\n",
    "FROM Laptop\n",
    "WHERE price > 1000\n",
    "```\n",
    "\n",
    "#####  4 Знайдіть усі записи таблиці Printer для кольорових принтерів.\n",
    "```MySQL\n",
    "SELECT *\n",
    "FROM Printer\n",
    "WHERE color='y'\n",
    "```\n",
    "\n",
    "##### 5 Знайдіть номер моделі, швидкість та розмір жорсткого диска ПК, що мають 12x або 24x CD та ціну менше 600 дол.\n",
    "```MySQL\n",
    "SELECT model, speed, hd\n",
    "FROM PC\n",
    "WHERE (cd in ('12x','24x')) and (price < 600)\n",
    "```\n",
    "\n",
    "##### 6 Для кожного виробника, що випускає ноутбуки з об'ємом жорсткого диска щонайменше 10 Гбайт, знайти швидкості таких ноутбуків. Вивести: виробника, швидкість.\n",
    "```MySQL\n",
    "SELECT DISTINCT maker, speed\n",
    "FROM Product JOIN Laptop ON Laptop.model = Product.model\n",
    "WHERE (hd >=10)\n",
    "```\n",
    "\n",
    "#####  7 Знайдіть номери моделей та ціни всіх наявних у продажу продуктів (будь-якого типу) виробника B (латинська літера).\n",
    "### пройшов тест на основній базі\n",
    "```MySQL\n",
    "SELECT DISTINCT Product.model, \n",
    " ISNULL(PC.price, 0)+ISNULL(Laptop.price, 0)+ISNULL(Printer.price, 0) AS price\n",
    "FROM (((Product LEFT JOIN  PC ON Product.model = PC.model) LEFT JOIN \n",
    " Laptop ON Product.model = Laptop.model) LEFT JOIN \n",
    " Printer ON Product.model = Printer.model)\n",
    "WHERE Product.maker = 'B'\n",
    "```\n",
    "\n",
    "##### 8 Знайдіть виробника, що випускає ПК, але не ноутбуки.\n",
    "```MySQL\n",
    "SELECT DISTINCT maker\n",
    "FROM Product\n",
    "WHERE type = 'PC' AND \n",
    "      maker NOT IN (SELECT maker \n",
    "                    FROM Product \n",
    "                    WHERE type = 'Laptop')\n",
    "```\n",
    "\n",
    "#####  9 Знайдіть виробників ПК із процесором не менше 450 МГц. Вивести: Maker\n",
    "### пройшов тест на основній базі\n",
    "```MySQL\n",
    "SELECT DISTINCT maker\n",
    "FROM Product INNER JOIN PC ON Product.model = PC.model\n",
    "WHERE speed > 450 AND type='PC'\n",
    "```\n",
    "\n",
    "##### 10 Знайдіть моделі принтерів, що мають найвищу ціну. Вивести: model, price\n",
    "```MySQL\n",
    "SELECT model, price\n",
    "FROM Printer\n",
    "WHERE price = (SELECT MAX(price) FROM Printer)\n",
    "```\n",
    "\n",
    "##### 11 Знайдіть середню швидкість ПК.\n",
    "```MySQL\n",
    "SELECT AVG(speed) as Avg_speed\n",
    "FROM PC\n",
    "```\n",
    "\n",
    "##### 12 Знайдіть середню швидкість ноутбуків, ціна яких перевищує 1000 дол.\n",
    "```MySQL\n",
    "SELECT AVG(speed) AS Avg_speed  \n",
    "FROM Laptop \n",
    "WHERE price > 1000\n",
    "```\n",
    "\n",
    "##### 13 Найдите среднюю скорость ПК, выпущенных производителем A.\n",
    "```MySQL\n",
    "SELECT AVG(speed) AS Avg_speed\n",
    "FROM Product JOIN PC ON Product.model=PC.model\n",
    "WHERE maker = 'A'\n",
    "```\n",
    "\n",
    "#####  14 Знайдіть клас, ім'я та країну для кораблів із таблиці Ships, що мають не менше 10 гармат.\n",
    "```MySQL\n",
    "SELECT Ships.class, name, country\n",
    "FROM Ships JOIN Classes ON Ships.class = Classes.class\n",
    "WHERE numGuns>=10;\n",
    "```\n",
    "\n",
    "##### 15 Знайдіть розміри жорстких дисків, що збігаються у двох і більше ПК. Вивести: HD\n",
    "```MySQL\n",
    "SELECT hd \n",
    "FROM PC \n",
    "GROUP BY hd \n",
    "HAVING COUNT(hd)>=2\n",
    "```\n",
    "\n",
    "##### 16 Знайдіть пару моделей PC, що мають однакову швидкість і RAM. У результаті кожна пара вказується лише один раз, тобто (i,j), але не (j,i), порядок виведення: модель з більшим номером, модель з меншим номером, швидкість та RAM.\n",
    "### списав\n",
    "```MySQL\n",
    "SELECT MAX(model1), MIN(model2), MAX(speed), MAX(ram) \n",
    "FROM (SELECT pc1.model AS model1, pc2.model AS model2, pc1.speed, pc2.ram, \n",
    "             CASE WHEN CAST(pc1.model AS NUMERIC(6,2)) > \n",
    "                       CAST(pc2.model AS NUMERIC(6,2)) \n",
    "                  THEN pc1.model+pc2.model  \n",
    "                  ELSE pc2.model+pc1.model  \n",
    "             END AS sm \n",
    "      FROM PC pc1, PC pc2 \n",
    "      WHERE pc1.speed = pc2.speed AND \n",
    "            pc1.ram = pc2.ram AND \n",
    "            pc1.model <> pc2.model\n",
    "      ) a \n",
    "GROUP BY a.sm\n",
    "```\n",
    "\n",
    "##### 17 Знайдіть моделі ноутбуків, швидкість яких менша за швидкість кожного з ПК. Вивести: type, model, speed\n",
    "```MySQL\n",
    "SELECT DISTINCT type, Laptop.model, speed\n",
    "FROM Laptop, Product\n",
    "WHERE Product.model = Laptop.model AND\n",
    "      Laptop.speed < (SELECT MIN(speed) FROM PC)\n",
    "```\n",
    "\n",
    "##### 18 Знайдіть виробників найдешевших кольорових принтерів. Вивести: maker, price\n",
    "### пройшов тест на основній базі\n",
    "```MySQL\n",
    "select maker, price\n",
    "from printer, product\n",
    "WHERE product.model = printer.model and price = (select min(price) from printer where color='y') and color='y'\n",
    "```\n",
    "\n",
    "##### 19 Для кожного виробника, що має моделі в таблиці Laptop, знайдіть середній розмір екрану ноутбуків, що випускаються ним. Вивести: maker, середній розмір екрану.\n",
    "```MySQL\n",
    "SELECT maker, avg(screen)\n",
    "FROM laptop, product\n",
    "WHERE laptop.model=product.model\n",
    "GROUP BY maker\n",
    "```\n",
    "\n",
    "#####  20 Знайдіть виробників, що випускають щонайменше три різні моделі ПК. Вивести: Maker, кількість моделей ПК.\n",
    "```MySQL\n",
    "SELECT maker, count(model) as Count_Model\n",
    "FROM Product\n",
    "WHERE type='PC'\n",
    "GROUP BY maker\n",
    "HAVING count(model)>=3\n",
    "```\n",
    "\n",
    "##### 21 Знайдіть максимальну ціну ПК, що випускаються кожним виробником, який має моделі в таблиці PC. Вивести: maker, максимальна ціна.\n",
    "```MySQL\n",
    "SELECT maker, max(price)\n",
    "FROM Product, PC\n",
    "WHERE type='PC' and PC.model=Product.model\n",
    "GROUP BY maker\n",
    "```\n",
    "\n",
    "#####  22 Для кожного значення швидкості ПК, що перевищує 600 МГц, визначте середню ціну ПК із такою самою швидкістю. Вивести: speed, середня ціна.\n",
    "```MySQL\n",
    "SELECT speed, AVG(price)\n",
    "FROM PC\n",
    "WHERE speed > 600\n",
    "GROUP BY speed\n",
    "```\n",
    "##### 23 Знайдіть виробників, які виробляли б як ПК зі швидкістю щонайменше 750 МГц, і ноутбуки зі швидкістю щонайменше 750 МГц. Вивести: Maker\n",
    "### списав\n",
    "```MySQL\n",
    "SELECT DISTINCT maker\n",
    "FROM Product\n",
    "WHERE maker IN (\n",
    "    SELECT DISTINCT maker \n",
    "    FROM Product JOIN PC ON Product.model = PC.model\n",
    "    WHERE speed >= 750\n",
    ")\n",
    "AND maker IN (\n",
    "    SELECT DISTINCT maker \n",
    "    FROM Product JOIN Laptop ON Product.model = Laptop.model\n",
    "    WHERE speed >= 750\n",
    ")\n",
    "```\n",
    "\n",
    "##### 24 Перерахуйте номери моделей будь-яких типів, що мають найвищу ціну по всій наявній у базі даних продукції.\n",
    "```MySQL\n",
    "WITH pivot_table AS (SELECT model, price\n",
    "                     FROM (SELECT product.model as model, ISNULL(PC.price, 0)+ISNULL(Laptop.price,\n",
    "                                                             0)+ISNULL(Printer.price, 0) AS price\n",
    "                           FROM (((Product LEFT JOIN PC ON Product.model = PC.model) LEFT JOIN \n",
    "                                     Laptop ON Product.model = Laptop.model) LEFT JOIN \n",
    "                                     Printer ON Product.model = Printer.model)) as tables)\n",
    "SELECT model\n",
    "FROM pivot_table\n",
    "WHERE price = (SELECT MAX(price) FROM pivot_table)\n",
    "```\n",
    "\n",
    "##### 25 Знайдіть виробників принтерів, які виробляють ПК з найменшим об'ємом RAM і найшвидшим процесором серед усіх ПК, що мають найменший об'єм RAM. Вивести: Maker\n",
    "```MySQL\n",
    "WITH pivot_table AS\n",
    "(SELECT Product.maker, ram, speed, Product.type\n",
    "FROM ((Product LEFT JOIN PC ON Product.model = PC.model) LEFT JOIN Printer ON Product.model = Printer.model))\n",
    "\n",
    "SELECT DISTINCT maker\n",
    "FROM pivot_table\n",
    "WHERE speed = (SELECT MAX(speed) FROM pivot_table WHERE ram = (SELECT min(ram) FROM pivot_table)) and maker IN (SELECT maker FROM pivot_table WHERE type = 'Printer') and ram = (SELECT min(ram) FROM pivot_table)\n",
    "```\n",
    "\n",
    "##### 26 Знайдіть середню ціну ПК та ПК-блокнотів, випущених виробником A (латинська літера). Вивести: одна загальна середня ціна.\n",
    "```MySQL\n",
    "SELECT AVG(price)\n",
    "FROM (SELECT price, model, speed, ram, hd\n",
    "      FROM PC \n",
    "      WHERE model IN (SELECT model FROM Product WHERE maker='A' AND type ='PC')\n",
    "      UNION\n",
    "      SELECT price, model, speed, ram, hd\n",
    "      FROM Laptop\n",
    "      WHERE model IN (SELECT model FROM Product WHERE maker='A' AND type ='Laptop')) as p\n",
    "   ```\n",
    "\n",
    "##### 27 Знайдіть середній розмір диска ПК кожного з виробників, які випускають і принтери. Вивести: maker, середній розмір HD.\n",
    "\n",
    "```MySQL\n",
    "SELECT maker, AVG(hd)\n",
    "FROM (SELECT maker, hd FROM PC JOIN Product ON  PC.model=Product.model WHERE maker IN (SELECT maker FROM Printer JOIN Product ON Printer.model=Product.model)) as t\n",
    "GROUP BY maker\n",
    "```\n",
    "\n",
    "##### 28 Використовуючи таблицю Product, визначити кількість виробників, що випускають за однією моделлю.\n",
    "```MySQL\n",
    "SELECT COUNT(*) as count \n",
    "FROM (SELECT count(model) as cnt\n",
    "FROM Product\n",
    "GROUP BY maker\n",
    "HAVING count(model) = 1) as t\n",
    "WHERE cnt=1\n",
    "```\n",
    "\n",
    "##### 29 У припущенні, що прихід та витрата грошей на кожному пункті прийому фіксується не частіше ніж один раз на день [тобто. первинний ключ (пункт, дата)], написати запит із вихідними даними (пункт, дата, прихід, витрата). Використовувати таблиці Income_o та Outcome_o.\n",
    "### списав\n",
    "```MySQL\n",
    "SELECT i.point, i.date, i.inc, o.out\n",
    "FROM Income_o i LEFT JOIN Outcome_o o ON i.point = o.point AND i.date = o.date\n",
    "\n",
    "UNION\n",
    "\n",
    "SELECT o.point, o.date, i.inc, o.out\n",
    "FROM Outcome_o o LEFT JOIN Income_o i ON o.point = i.point AND o.date = i.date\n",
    "```\n",
    "\n",
    "##### 30 В предположении, что приход и расход денег на каждом пункте приема фиксируется произвольное число раз (первичным ключом в таблицах является столбец code), требуется получить таблицу, в которой каждому пункту за каждую дату выполнения операций будет соответствовать одна строка.\n",
    "### списав\n",
    "```MySQL\n",
    "SELECT point, date, SUM(sum_out), SUM(sum_inc)\n",
    "FROM (\n",
    "SELECT point, date, SUM(inc) as sum_inc, null as sum_out\n",
    "FROM  Income\n",
    "GROUP BY point, date\n",
    "\n",
    "UNION\n",
    "\n",
    "SELECT point, date, null as sum_inc, SUM(out) as sum_out\n",
    "FROM  Outcome\n",
    "GROUP BY point, date\n",
    ") as T\n",
    "GROUP BY point, date\n",
    "ORDER BY point\n",
    "```"
   ]
  },
  {
   "cell_type": "code",
   "execution_count": null,
   "metadata": {},
   "outputs": [],
   "source": []
  }
 ],
 "metadata": {
  "kernelspec": {
   "display_name": "Python 3 (ipykernel)",
   "language": "python",
   "name": "python3"
  },
  "language_info": {
   "codemirror_mode": {
    "name": "ipython",
    "version": 3
   },
   "file_extension": ".py",
   "mimetype": "text/x-python",
   "name": "python",
   "nbconvert_exporter": "python",
   "pygments_lexer": "ipython3",
   "version": "3.10.5"
  }
 },
 "nbformat": 4,
 "nbformat_minor": 2
}
