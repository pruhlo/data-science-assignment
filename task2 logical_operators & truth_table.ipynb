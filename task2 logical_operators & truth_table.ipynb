{
 "cells": [
  {
   "cell_type": "markdown",
   "id": "21f1aff6",
   "metadata": {},
   "source": [
    "<img src='https://github.com/pruhlo/data-science-assignment/blob/master/assets/task2.PNG?raw=true'>"
   ]
  },
  {
   "cell_type": "markdown",
   "id": "8f9840f5",
   "metadata": {},
   "source": [
    "<ul style=\"padding-left: 0; margin-left: 0; text-align:center; font-size:1em;\">\n",
    "            <li style='list-style-type: none; margin-bottom: 1em;'><a href='#part1' style = \"color:grey; text-decoration:none;\">Операція <code>НЕ</code> – логічне заперечення (інверсія)</a></li>\n",
    "            <li style='list-style-type: none; margin-bottom: 1em;'><a href='#part2' style = \"color:grey; text-decoration:none;\">Операція <code>АБО</code> – - логічне додавання (диз'юнкція, об'єднання)</a></li>\n",
    "            <li style='list-style-type: none; margin-bottom: 1em;'><a href='#part3' style = \"color:grey; text-decoration:none;\">Операція <code>І</code> – логічне множення (кон'юнкція)</a></li>\n",
    "            <li style='list-style-type: none; margin-bottom: 1em;'><a href='#part4' style = \"color:grey; text-decoration:none;\">Операція <code>ЯКЩО-ТО</code> – логічне слідування (імплікація)</a></li>\n",
    "            <li style='list-style-type: none; margin-bottom: 1em;'><a href='#part5' style = \"color:grey; text-decoration:none;\">Операція <code>А тоді і тільки тоді, коли В</code> (еквівалентність, рівнозначність)</a></li>\n",
    "            <li style='list-style-type: none; margin-bottom: 1em;'><a href='#part6' style = \"color:grey; text-decoration:none;\">Операція «Додавання за модулем 2» (Диз'юнкція ( V ), що виключає <code>АБО</code> (XOR), сума за модулем 2)</a></li>\n",
    "            <li style='list-style-type: none; margin-bottom: 1em;'><a href='#part7' style = \"color:grey; text-decoration:none;\">Пріоритет логічних операцій</a></li>\n",
    "</ul>\n",
    "\n",
    "[таблиця істинності на stackoverflow](#part0)<br>\n"
   ]
  },
  {
   "cell_type": "markdown",
   "id": "7794a8f6",
   "metadata": {},
   "source": [
    "# [Таблиця істинності](https://math.semestr.ru/inf/table.php)\n",
    "\n",
    "– таблиця містить усі можливі комбінації вхідних змінних та відповідне їм значення на виході.\n",
    "Таблиця істинності містить 2n рядків, де n – число вхідних змінних, і n+m – стовпці, де m – вихідні змінні.\n",
    "\n",
    "В алгебрі логіки можна виділити три основні логічні функції: \"`НЕ`\"(`not`) (заперечення), \"`І`\"(`and`) (кон'юнкція), \"`АБО`\"(`or`) (диз'юнкція).\n",
    "\n",
    "Усі операції алгебри логіки визначаються таблицями істинності значень. Таблиця істинності визначає результат виконання операції всім можливих логічних значень вихідних висловлювань. Кількість варіантів, що відображають результат застосування операцій, залежатиме від кількості висловлювань у логічному виразі. Якщо кількість висловлювань у логічному вираженні N, то таблиця істинності міститиме 2N рядків, оскільки існує 2N різних комбінацій можливих значень аргументів.\n",
    "\n",
    "<p id='part1'></p>\n",
    "\n",
    "<h4 style='text-align:center; color:blue; margin-bottom:40px;'>Операція <code>НЕ</code> – логічне заперечення (інверсія)</h4>\n",
    "\n",
    "Логічна операція `НЕ` застосовується до одного аргументу, якою може бути і просте, і складне логічне вираження. Результатом операції `НЕ` є таке:\n",
    "* якщо вихідний вираз істинний, то результат його заперечення буде хибним;\n",
    "* якщо вихідний вираз хибний, то результат його заперечення буде істинним.\n",
    ">Для операції заперечення `НЕ` прийнято такі умовні позначення:\n",
    "`не А, Ā, not A, ¬А, !A`\n",
    "\n",
    "Результат операції заперечення не визначається наступною таблицею істинності:\n",
    "\n",
    "a          | Result\n",
    ":---------------:|:--------------:\n",
    "False |  True \n",
    " True  |  False"
   ]
  },
  {
   "cell_type": "markdown",
   "id": "cef14a40",
   "metadata": {},
   "source": [
    "<h4 style='text-align:center; color:#FF8C00; margin-bottom:40px;'>Результат операції заперечення істинний, коли вихідне висловлювання хибне, і навпаки.</h4>"
   ]
  },
  {
   "cell_type": "markdown",
   "id": "f1b57f12",
   "metadata": {},
   "source": [
    "<p id='part2'></p>\n",
    "\n",
    "<h4 style='text-align:center; color:blue; margin-bottom:40px;'>Операція <code>АБО</code> – логічне додавання (диз'юнкція, об'єднання)</h4>\n",
    "\n",
    "Логічна операція `АБО` виконує функцію об'єднання двох висловлювань, як яких може бути і простий, і складний логічний вираз. Висловлювання, що є вихідними для логічної операції, називають аргументами. Результатом операції `АБО` є вираз, який буде істинним тоді і тільки тоді, коли істинно буде хоча б один із вихідних виразів.\n",
    "Позначення, що застосовуються: `А або В, А V В, A or B, A||B.`\n",
    "Результат операції `АБО` визначається наступною таблицею істинності:\n",
    "\n",
    "a                  | b          | Result\n",
    ":-----------------:|:--------------:|:--------------:\n",
    " False | False |  False\n",
    " False | True  |  True \n",
    " True  | False |  True \n",
    " True  | True  |  True "
   ]
  },
  {
   "cell_type": "markdown",
   "id": "f22c333a",
   "metadata": {},
   "source": [
    "<h4 style='text-align:center; color:#FF8C00; margin-bottom:40px;'>Результат операції <code>АБО</code> істинний, коли істинно А, або істинно B, або і А і В одночасно, і помилковий тоді, коли аргументи А і В - помилкові.</h4>"
   ]
  },
  {
   "cell_type": "markdown",
   "id": "4fbc5604",
   "metadata": {},
   "source": [
    "<p id='part3'></p>\n",
    "\n",
    "\n",
    "<h4 style='text-align:center; color:blue; margin-bottom:40px;'>Операція <code>І</code> – логічне множення (кон'юнкція)</h4>\n",
    "\n",
    "Логічна операція <code>І</code> виконує функцію перетину двох висловлювань (аргументів), як яких може бути і простий, і складний логічний вираз. Результатом операції <code>І</code> є вираз, який буде істинним тоді і тільки тоді, коли істинні обидва вихідні вирази.\n",
    "Позначення, що застосовуються: <code>А і В, А Λ В, A & B, A and B</code>\n",
    "Результат операції визначається наступною таблицею істинності:\n",
    "\n",
    "a                  | b          | Result\n",
    ":-----------------:|:--------------:|:--------------:\n",
    " False | False |  False\n",
    " False | True  |  False\n",
    " True  | False |  False\n",
    " True  | True  |  True"
   ]
  },
  {
   "cell_type": "markdown",
   "id": "116892fc",
   "metadata": {},
   "source": [
    "<h4 style='text-align:center; color:#FF8C00; margin-bottom:40px;'>Результат операції <code>І</code> істинний тоді й лише тоді, коли істинні одночасно висловлювання А і В, і хибний у всіх інших випадках.</h4>"
   ]
  },
  {
   "cell_type": "markdown",
   "id": "04e02f1b",
   "metadata": {},
   "source": [
    "<p id='part4'></p>\n",
    "\n",
    "<h4 style='text-align:center; color:blue; margin-bottom:40px;'>Операція <code>ЯКЩО-ТО</code> – логічне слідування (імплікація)</h4>\n",
    "\n",
    "Ця операція пов'язує два простих логічних вирази, з яких перше є умовою, а друге — наслідком цієї умови.\n",
    "Позначення, що застосовуються:\n",
    "`якщо А, то; А спричиняє В; if A then В; А→В.`\n",
    "Таблиця істинності:\n",
    "\n",
    "a                  | b          | Result\n",
    ":-----------------:|:--------------:|:--------------:\n",
    "False | False |  True \n",
    " False | True  | True \n",
    " True  | False |  False\n",
    " True  | True  |  True"
   ]
  },
  {
   "cell_type": "markdown",
   "id": "b5516836",
   "metadata": {},
   "source": [
    "<h4 style='text-align:center; color:#FF8C00; margin-bottom:40px;'>Результат операції слідування (імплікації) хибний лише тоді, коли передумова А істинна, а висновок (наслідок) хибний.</h4>"
   ]
  },
  {
   "cell_type": "markdown",
   "id": "b4f17047",
   "metadata": {},
   "source": [
    "<p id='part5'></p>\n",
    "\n",
    "<h4 style='text-align:center; color:blue; margin-bottom:40px;'>Операція <code>А тоді і тільки тоді, коли В</code> (еквівалентність, рівнозначність)</h4>\n",
    "\n",
    "Позначення, що застосовується: `А ↔ В, А ~ В.`\n",
    "Таблиця істинності:\n",
    "\n",
    "a                  | b          | Result\n",
    ":-----------------:|:--------------:|:--------------:\n",
    "False              |False           |True\n",
    "False              |True            |False\n",
    "True               |True            |False\n",
    "True               |True            | True"
   ]
  },
  {
   "cell_type": "markdown",
   "id": "1e68b27b",
   "metadata": {},
   "source": [
    "<h4 style='text-align:center; color:#FF8C00; margin-bottom:40px;'>Результат операції еквівалентність дійсний тільки тоді, коли А і В одночасно дійсні або одночасно помилкові</h4>"
   ]
  },
  {
   "cell_type": "markdown",
   "id": "c21fcb50",
   "metadata": {},
   "source": [
    "<p id='part6'></p>\n",
    "\n",
    "<h4 style='text-align:center; color:blue; margin-bottom:40px;'>Операція «Додавання за модулем 2» (Диз'юнкція ( V ), що виключає <code>АБО</code> (XOR), сума за модулем 2)</h4>\n",
    "\n",
    "Позначення, що застосовується: `А XOR В, А ⊕ В`\n",
    "Таблиця істинності:\n",
    "\n",
    "a                  | b          | Result\n",
    ":-----------------:|:--------------:|:--------------:\n",
    "False              |False           |False\n",
    "False              |True            |True\n",
    "True               |False           |True\n",
    "True               |True            |False"
   ]
  },
  {
   "cell_type": "markdown",
   "id": "e6fee982",
   "metadata": {},
   "source": [
    "<h4 style='text-align:center; color:#FF8C00; margin-bottom:40px;'>Результат операції  хибний, якщо обидва операнди рівні; у всіх інших випадках результат істина</h4>\n",
    "\n",
    "<p id='part7'></p>\n",
    "<h4 style='text-align:center; color:blue; margin-bottom:40px;'>Пріоритет логічних операцій</h4>\n",
    "\n",
    "* Дії у дужках\n",
    "* Інверсія\n",
    "* Кон'юнкція (&)\n",
    "* Диз'юнкція ( V ), що виключає АБО (XOR), сума за модулем 2\n",
    "* Імплікація ( → )\n",
    "* Еквівалентність ( ↔ )"
   ]
  },
  {
   "cell_type": "markdown",
   "id": "49e609fc",
   "metadata": {},
   "source": [
    "<p id='part0'></p>\n",
    "\n",
    "[таблиця істинності на stackoverflow](https://ru.stackoverflow.com/questions/1281217/%D0%A2%D0%B0%D0%B1%D0%BB%D0%B8%D1%86%D0%B0-%D0%B8%D1%81%D1%82%D0%B8%D0%BD%D0%BD%D0%BE%D1%81%D1%82%D0%B8-%D0%BA%D0%BE%D1%82%D0%BE%D1%80%D0%B0%D1%8F-%D1%81%D1%87%D0%B8%D1%82%D1%8B%D0%B2%D0%B0%D0%B5%D1%82-%D1%84%D1%83%D0%BD%D0%BA%D1%86%D0%B8%D1%8E-python)"
   ]
  },
  {
   "cell_type": "code",
   "execution_count": null,
   "id": "e7adde7b",
   "metadata": {},
   "outputs": [],
   "source": [
    "import re\n",
    "\n",
    "class BoolVar:\n",
    "    def __init__(self, value):\n",
    "        self.value = value\n",
    "        #print(\"INIT =\", value)\n",
    "\n",
    "    # '-' — возражения \"нет\"\n",
    "    def __neg__(self):\n",
    "        return BoolVar(not self.value)\n",
    "\n",
    "    # '+' — дизъюнкция \"или\"\n",
    "    def __add__(self, other):\n",
    "        return BoolVar(self.value or other.value)\n",
    "\n",
    "    # '*' — конъюнкция \"и\"\n",
    "    def __mul__(self, other):\n",
    "        return BoolVar(self.value and other.value)\n",
    "\n",
    "    # '>' — импликация \"если ..., тогда\"\n",
    "    def __gt__(self, other):\n",
    "        return BoolVar((not self.value) or other.value)\n",
    "\n",
    "    # '=' — эквивалентность \"ровно\"\n",
    "    def __eq__(self, other):\n",
    "        return BoolVar(self.value == other.value)\n",
    "    \n",
    "    # строковое представление значения\n",
    "    def __str__(self):\n",
    "        return \"True\" if self.value else \"False\"\n",
    "\n",
    "    def __format__(self, format_spec):\n",
    "        return format(str(self), format_spec)"
   ]
  },
  {
   "cell_type": "code",
   "execution_count": null,
   "id": "1fd9e89b",
   "metadata": {},
   "outputs": [],
   "source": [
    "def bools():\n",
    "    infunc = input('Enter your function: ')\n",
    "    # в питоне знак эквивалентности - это '==', так что заменяем\n",
    "    infunc = infunc.replace(\"=\", \"==\")\n",
    "    # находим переменные в функции, т.е. просто буквы\n",
    "    # set() делает этот набор уникальным, ну и сортируем\n",
    "    variables = sorted(set(re.findall(r\"[A-Za-z]\", infunc)))\n",
    "    # или так, если надо без использования регулярных выражений\n",
    "    # variables = sorted(set([c for c in infunc if c.isalpha()]))\n",
    "\n",
    "    # просто красивое оформление для таблицы\n",
    "    header = [\"\"]*2\n",
    "    for key in variables:\n",
    "        header[0] += \"-\"*7 + \"+\"\n",
    "        header[1] += f\"   {key}   |\"\n",
    "    header[0] += \"-+\" + \"-\"*7\n",
    "    header[1] += \" | Result\"\n",
    "    print(\"\\n\".join(header + header[0:1]))\n",
    "\n",
    "    vars_for_eval = {}\n",
    "    # вариантов входных значений для таблицы - 2 в степени кол-ва переменных\n",
    "    for variant in range(1 << len(variables)):\n",
    "        # заполняем входной словарь c представлением переменных \n",
    "        # в виде экземпляров нашего класса для функции eval()\n",
    "        # key идут в прямом порядке, а i - в обратном\n",
    "        for i, key in reversed(list(enumerate(reversed(variables)))):\n",
    "            # используем биты этого числа для инициализыции булевых значений \n",
    "            vars_for_eval[key] = BoolVar(variant & (1 << i))\n",
    "            # вывод строки таблицы истинности\n",
    "            print(f\" {vars_for_eval[key]:<5}\", end=\" |\")\n",
    "        # вычисляем результат\n",
    "        result = eval(infunc, {}, vars_for_eval)\n",
    "        print(f\" | {result:<5}\")\n",
    "\n",
    "    print(header[0])"
   ]
  },
  {
   "cell_type": "code",
   "execution_count": 5,
   "id": "a3a38d16",
   "metadata": {},
   "outputs": [
    {
     "name": "stdout",
     "output_type": "stream",
     "text": [
      "Enter your function: a+b\n",
      "-------+-------+-+-------\n",
      "   a   |   b   | | Result\n",
      "-------+-------+-+-------\n",
      " False | False | | False\n",
      " False | True  | | True \n",
      " True  | False | | True \n",
      " True  | True  | | True \n",
      "-------+-------+-+-------\n"
     ]
    }
   ],
   "source": [
    "bools()"
   ]
  }
 ],
 "metadata": {
  "kernelspec": {
   "display_name": "Python 3 (ipykernel)",
   "language": "python",
   "name": "python3"
  },
  "language_info": {
   "codemirror_mode": {
    "name": "ipython",
    "version": 3
   },
   "file_extension": ".py",
   "mimetype": "text/x-python",
   "name": "python",
   "nbconvert_exporter": "python",
   "pygments_lexer": "ipython3",
   "version": "3.10.5"
  }
 },
 "nbformat": 4,
 "nbformat_minor": 5
}
