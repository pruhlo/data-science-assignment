{
 "cells": [
  {
   "cell_type": "markdown",
   "id": "46f27fa6",
   "metadata": {},
   "source": [
    "<img src='https://github.com/pruhlo/data-science-assignment/blob/master/assets/task4.PNG?raw=true'>"
   ]
  },
  {
   "cell_type": "markdown",
   "id": "5e4716a4",
   "metadata": {},
   "source": [
    "sign функція, [signum функція](https://uk.wikipedia.org/wiki/Signum-функція) або функція знаку (з латинської signum «знак»)  — це непарна математична функція, яка «витягує» знак дійсного числа. У математичних виразах функція sign часто зустрічається як sgn."
   ]
  },
  {
   "cell_type": "code",
   "execution_count": 1,
   "id": "8346a8a6",
   "metadata": {},
   "outputs": [
    {
     "data": {
      "text/plain": [
       "1"
      ]
     },
     "execution_count": 1,
     "metadata": {},
     "output_type": "execute_result"
    }
   ],
   "source": [
    "def sgn(number):\n",
    "    if number < 0:\n",
    "        return -1\n",
    "    elif number == 0:\n",
    "        return 0\n",
    "    else:\n",
    "        return 1\n",
    "sgn(58)"
   ]
  }
 ],
 "metadata": {
  "kernelspec": {
   "display_name": "Python 3 (ipykernel)",
   "language": "python",
   "name": "python3"
  },
  "language_info": {
   "codemirror_mode": {
    "name": "ipython",
    "version": 3
   },
   "file_extension": ".py",
   "mimetype": "text/x-python",
   "name": "python",
   "nbconvert_exporter": "python",
   "pygments_lexer": "ipython3",
   "version": "3.10.5"
  }
 },
 "nbformat": 4,
 "nbformat_minor": 5
}
