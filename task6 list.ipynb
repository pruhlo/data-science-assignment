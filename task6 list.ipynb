{
 "cells": [
  {
   "cell_type": "markdown",
   "id": "2a04e01c",
   "metadata": {},
   "source": [
    "<img src='https://github.com/pruhlo/data-science-assignment/blob/master/assets/task6.PNG?raw=true'>"
   ]
  },
  {
   "cell_type": "code",
   "execution_count": 1,
   "id": "bdca23f1",
   "metadata": {},
   "outputs": [
    {
     "name": "stdout",
     "output_type": "stream",
     "text": [
      "['Жовтий', 'Синій']\n",
      "['Жовтий', 'Синій', 'Червоний']\n",
      "['Жовтий', 'Чорний', 'Червоний']\n",
      "['Чорний', 'Червоний']\n",
      "['Помаранчевий', 'Зелений', 'Чорний', 'Червоний']\n"
     ]
    }
   ],
   "source": [
    "# 1\n",
    "colors = ['Жовтий',\n",
    "         'Синій',\n",
    "         ]\n",
    "print(colors)\n",
    "#2\n",
    "colors.append('Червоний')\n",
    "print(colors)\n",
    "#3\n",
    "colors[-2] = 'Чорний'\n",
    "print(colors)\n",
    "#4\n",
    "del colors[0]\n",
    "print(colors)\n",
    "#5\n",
    "for color in ['Зелений','Помаранчевий']:\n",
    "    colors.insert(0, color)\n",
    "print(colors)\n",
    "#5\n",
    "# ['Зелений','Помаранчевий'] + colors"
   ]
  }
 ],
 "metadata": {
  "kernelspec": {
   "display_name": "Python 3 (ipykernel)",
   "language": "python",
   "name": "python3"
  },
  "language_info": {
   "codemirror_mode": {
    "name": "ipython",
    "version": 3
   },
   "file_extension": ".py",
   "mimetype": "text/x-python",
   "name": "python",
   "nbconvert_exporter": "python",
   "pygments_lexer": "ipython3",
   "version": "3.10.5"
  }
 },
 "nbformat": 4,
 "nbformat_minor": 5
}
